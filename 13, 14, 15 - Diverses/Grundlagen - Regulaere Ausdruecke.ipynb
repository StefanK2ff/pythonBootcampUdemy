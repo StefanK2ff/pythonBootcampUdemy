{
 "cells": [
  {
   "cell_type": "markdown",
   "metadata": {},
   "source": [
    "## Grundlagen: Regluäre Ausdrücke"
   ]
  },
  {
   "cell_type": "markdown",
   "metadata": {},
   "source": [
    "Reguläre Ausdrücke erlauben dir, Strings noch flexibler zu durchsuchen. Beispielsweise kannst du mit einem regulären Ausdruck alle Zahlen in einem String finden oder validieren, dass eine E-Mail-Adresse grundsätzlich existieren könnte.\n",
    "\n",
    "Aber wie funkionieren die?"
   ]
  },
  {
   "cell_type": "code",
   "execution_count": 1,
   "metadata": {},
   "outputs": [],
   "source": [
    "import re # importiert regular expressions"
   ]
  },
  {
   "cell_type": "code",
   "execution_count": 3,
   "metadata": {},
   "outputs": [
    {
     "data": {
      "text/plain": [
       "['30', '4', '2']"
      ]
     },
     "execution_count": 3,
     "metadata": {},
     "output_type": "execute_result"
    }
   ],
   "source": [
    "sentence = \"Ich habe 30 Hunde, die jeweils 4 Liter Wasser brauchen und 2kg Nahrung.\"\n",
    "re.findall(\"[0-9]+\", sentence)"
   ]
  },
  {
   "cell_type": "code",
   "execution_count": 30,
   "metadata": {},
   "outputs": [
    {
     "data": {
      "text/plain": [
       "<_sre.SRE_Match object; span=(9, 11), match='30'>"
      ]
     },
     "execution_count": 30,
     "metadata": {},
     "output_type": "execute_result"
    }
   ],
   "source": [
    "sentence = \"Ich habe 30 Hunde, die jeweils 4 Liter Wasser brauchen und 2 kg Nahrung.\"\n",
    "re.search(\"[0-9]+\", sentence)"
   ]
  },
  {
   "cell_type": "code",
   "execution_count": 34,
   "metadata": {},
   "outputs": [
    {
     "data": {
      "text/plain": [
       "<_sre.SRE_Match object; span=(6, 9), match='der'>"
      ]
     },
     "execution_count": 34,
     "metadata": {},
     "output_type": "execute_result"
    }
   ],
   "source": [
    "re.search(\"der?\", \"Hallo der Hallo\")"
   ]
  },
  {
   "cell_type": "code",
   "execution_count": 15,
   "metadata": {},
   "outputs": [
    {
     "name": "stdout",
     "output_type": "stream",
     "text": [
      "<re.Match object; span=(6, 8), match='de'>\n",
      "<re.Match object; span=(6, 9), match='der'>\n",
      "<re.Match object; span=(6, 9), match='der'>\n"
     ]
    }
   ],
   "source": [
    "print(re.search(\"der*\", \"Hallo de Hallo\"))\n",
    "print(re.search(\"der*\", \"Hallo der Hallo\"))\n",
    "print(re.search(\"der+\", \"Hallo der68465165\"))"
   ]
  },
  {
   "cell_type": "code",
   "execution_count": 37,
   "metadata": {},
   "outputs": [
    {
     "name": "stdout",
     "output_type": "stream",
     "text": [
      "None\n",
      "<_sre.SRE_Match object; span=(6, 9), match='der'>\n",
      "<_sre.SRE_Match object; span=(6, 16), match='derrrrrrrr'>\n"
     ]
    }
   ],
   "source": [
    "print(re.search(\"der+\", \"Hallo de Hallo\"))\n",
    "print(re.search(\"der+\", \"Hallo der Hallo\"))\n",
    "print(re.search(\"der+\", \"Hallo derrrrrrrr Hallo\"))"
   ]
  },
  {
   "cell_type": "code",
   "execution_count": 19,
   "metadata": {},
   "outputs": [
    {
     "name": "stdout",
     "output_type": "stream",
     "text": [
      "<re.Match object; span=(6, 9), match='123'>\n",
      "<re.Match object; span=(6, 9), match='123'>\n"
     ]
    }
   ],
   "source": [
    "print(re.search(\"[0123456789]+\", \"Hallo 123 Hallo\"))\n",
    "print(re.search(\"[0-9]+\", \"Hallo 123 Hallo\"))"
   ]
  },
  {
   "cell_type": "code",
   "execution_count": 44,
   "metadata": {},
   "outputs": [
    {
     "name": "stdout",
     "output_type": "stream",
     "text": [
      "['123', '321']\n"
     ]
    }
   ],
   "source": [
    "print(re.findall(\"[0-9]+\", \"Hallo 123 Hallo 321\"))"
   ]
  },
  {
   "cell_type": "code",
   "execution_count": null,
   "metadata": {
    "collapsed": true
   },
   "outputs": [],
   "source": []
  }
 ],
 "metadata": {
  "kernelspec": {
   "display_name": "Python 3 (ipykernel)",
   "language": "python",
   "name": "python3"
  },
  "language_info": {
   "codemirror_mode": {
    "name": "ipython",
    "version": 3
   },
   "file_extension": ".py",
   "mimetype": "text/x-python",
   "name": "python",
   "nbconvert_exporter": "python",
   "pygments_lexer": "ipython3",
   "version": "3.9.13"
  }
 },
 "nbformat": 4,
 "nbformat_minor": 2
}
