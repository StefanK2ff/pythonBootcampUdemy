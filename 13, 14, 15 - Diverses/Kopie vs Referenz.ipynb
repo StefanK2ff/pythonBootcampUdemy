{
 "cells": [
  {
   "cell_type": "markdown",
   "metadata": {},
   "source": [
    "## Wie werden in Python Funktionsparameter übergeben?\n",
    "\n",
    "Man unterscheidet in Python zwischen 2 verschiedenen Arten von Variablen:\n",
    "\n",
    "- Primitive Datentypen (Zahl, String, Booleans, ...)\n",
    "- Datenstrukturen / Datenstruktur."
   ]
  },
  {
   "cell_type": "code",
   "execution_count": 2,
   "metadata": {},
   "outputs": [
    {
     "name": "stdout",
     "output_type": "stream",
     "text": [
      "3\n",
      "5\n"
     ]
    }
   ],
   "source": [
    "a = 5\n",
    "\n",
    "def f(x):\n",
    "    x = 3\n",
    "    print(x)\n",
    "\n",
    "f(a)\n",
    "print(a)"
   ]
  },
  {
   "cell_type": "code",
   "execution_count": 4,
   "metadata": {},
   "outputs": [
    {
     "name": "stdout",
     "output_type": "stream",
     "text": [
      "['Hallo', 'Welt', '!!!']\n",
      "['Hallo', 'Welt', '!!!']\n"
     ]
    }
   ],
   "source": [
    "l = [\"Hallo\", \"Welt\"]\n",
    "\n",
    "def f(x):\n",
    "    x.append(\"!!!\")\n",
    "    print(x)\n",
    "    \n",
    "f(l)\n",
    "print(l)"
   ]
  },
  {
   "cell_type": "code",
   "execution_count": 1,
   "metadata": {},
   "outputs": [
    {
     "name": "stdout",
     "output_type": "stream",
     "text": [
      "['Hallo', 'Welt', '!!!']\n",
      "['Hallo', 'Welt']\n",
      "['Hallo', 'Welt']\n"
     ]
    }
   ],
   "source": [
    "l = [\"Hallo\", \"Welt\"]\n",
    "\n",
    "def f(x):\n",
    "    x = [\"Hallo\", \"Welt\", \"!!!\"]\n",
    "    print(x)\n",
    "    print(l)\n",
    "\n",
    "f(l)\n",
    "print(l)"
   ]
  },
  {
   "cell_type": "code",
   "execution_count": 5,
   "metadata": {},
   "outputs": [
    {
     "name": "stdout",
     "output_type": "stream",
     "text": [
      "['was', 'bin', 'ich', 'doch', 'für', 'ein', 'Trottel']\n",
      "['doch', 'für', 'ein', 'Trottel']\n"
     ]
    }
   ],
   "source": [
    "a = [\"was\", \"bin\", \"ich\"]\n",
    "b = [\"doch\", \"für\", \"ein\", \"Trottel\"]\n",
    "\n",
    "def concat(lista, listb):\n",
    "    return lista + listb\n",
    "\n",
    "a = concat(a, b)\n",
    "print(a)\n",
    "print(b)\n",
    "#print(c)"
   ]
  },
  {
   "cell_type": "code",
   "execution_count": 7,
   "metadata": {},
   "outputs": [
    {
     "name": "stdout",
     "output_type": "stream",
     "text": [
      "String1String2\n",
      "String2\n"
     ]
    }
   ],
   "source": [
    "a = \"String1\"\n",
    "b = \"String2\"\n",
    "\n",
    "def concat(str1, str2):\n",
    "    return str1 + str2\n",
    "\n",
    "a = concat(a, b)\n",
    "print(a)\n",
    "print(b)\n",
    "#print(c)"
   ]
  }
 ],
 "metadata": {
  "kernelspec": {
   "display_name": "Python 3 (ipykernel)",
   "language": "python",
   "name": "python3"
  },
  "language_info": {
   "codemirror_mode": {
    "name": "ipython",
    "version": 3
   },
   "file_extension": ".py",
   "mimetype": "text/x-python",
   "name": "python",
   "nbconvert_exporter": "python",
   "pygments_lexer": "ipython3",
   "version": "3.9.13"
  }
 },
 "nbformat": 4,
 "nbformat_minor": 2
}
