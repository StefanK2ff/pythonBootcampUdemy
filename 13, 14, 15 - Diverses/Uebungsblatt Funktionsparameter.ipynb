{
 "cells": [
  {
   "cell_type": "markdown",
   "metadata": {},
   "source": [
    "# Übungsblatt Funktionsparameter & Sortierfunktionen\n",
    "\n",
    "In diesem Übungsblatt habe ich ein paar Aufgaben für dich vorbereitet. Viel Spaß bei diesen Übungen! :-)\n",
    "\n",
    "Wenn du mit diesem Übungsblatt fertig bist, kannst du deine Lösung mit der Musterlösung in Textform (Datei: `Uebungsblatt Funktionsparameter (Musterloesung)`) vergleichen. \n",
    "\n",
    "Die Video-Musterlösung (in der nächsten Lektion) ist besonders ausführlich gehalten. Wenn du alles richtig gelöst hast, ist es vollkommen okay, wenn du diese Lektion überspringst. :-)"
   ]
  },
  {
   "cell_type": "markdown",
   "metadata": {
    "collapsed": true
   },
   "source": [
    "### Aufgabe 1\n",
    "\n",
    "Vervollständige die Funktion `shortest_word()`: Ihr sollen mehrere Strings übergeben werden (KEINE Liste von Strings!), von denen sie den String mit den wenigsten Zeichen zurückliefert.\n",
    "\n",
    "Hinweis: Benutze variable Parameter (mit Sternchen `*` oder doppelten Sternche `**`)!"
   ]
  },
  {
   "cell_type": "code",
   "execution_count": 49,
   "metadata": {},
   "outputs": [
    {
     "name": "stdout",
     "output_type": "stream",
     "text": [
      "Jo\n"
     ]
    },
    {
     "ename": "SyntaxError",
     "evalue": "invalid syntax (<timeit-src>, line 2)",
     "output_type": "error",
     "traceback": [
      "Traceback \u001b[1;36m(most recent call last)\u001b[0m:\n",
      "  File \u001b[0;32m\"C:\\ProgramData\\Anaconda3\\lib\\site-packages\\IPython\\core\\interactiveshell.py\"\u001b[0m, line \u001b[0;32m3457\u001b[0m, in \u001b[0;35mrun_code\u001b[0m\n    exec(code_obj, self.user_global_ns, self.user_ns)\n",
      "  File \u001b[0;32m\"C:\\Users\\stefa\\AppData\\Local\\Temp\\ipykernel_11564\\697186300.py\"\u001b[0m, line \u001b[0;32m11\u001b[0m, in \u001b[0;35m<module>\u001b[0m\n    timeit.timeit('\"-\"'.join(shortest_word(\"Max\", \"Moritz\", \"Monika\", \"Tim\", \"Jo\")), number=10000)\n",
      "  File \u001b[0;32m\"C:\\ProgramData\\Anaconda3\\lib\\timeit.py\"\u001b[0m, line \u001b[0;32m233\u001b[0m, in \u001b[0;35mtimeit\u001b[0m\n    return Timer(stmt, setup, timer, globals).timeit(number)\n",
      "\u001b[1;36m  File \u001b[1;32m\"C:\\ProgramData\\Anaconda3\\lib\\timeit.py\"\u001b[1;36m, line \u001b[1;32m122\u001b[1;36m, in \u001b[1;35m__init__\u001b[1;36m\u001b[0m\n\u001b[1;33m    compile(stmtprefix + stmt, dummy_src_name, \"exec\")\u001b[0m\n",
      "\u001b[1;36m  File \u001b[1;32m\"<timeit-src>\"\u001b[1;36m, line \u001b[1;32m2\u001b[0m\n\u001b[1;33m    J\"-\"o\u001b[0m\n\u001b[1;37m     ^\u001b[0m\n\u001b[1;31mSyntaxError\u001b[0m\u001b[1;31m:\u001b[0m invalid syntax\n"
     ]
    }
   ],
   "source": [
    "import timeit\n",
    "\n",
    "def shortest_word(*words):\n",
    "    wordss = []\n",
    "    for word in words:\n",
    "        wordss.append(word)\n",
    "    wordss.sort()\n",
    "    return wordss[0]\n",
    "  \n",
    "print(shortest_word(\"Max\", \"Moritz\", \"Monika\", \"Tim\", \"Jo\"))\n",
    "#timeit.timeit('\"-\"'.join(shortest_word(\"Max\", \"Moritz\", \"Monika\", \"Tim\", \"Jo\")), number=10000)"
   ]
  },
  {
   "cell_type": "markdown",
   "metadata": {},
   "source": [
    "Erwartete Ausgabe:\n",
    "\n",
    "```\n",
    "Jo\n",
    "```"
   ]
  },
  {
   "cell_type": "markdown",
   "metadata": {},
   "source": [
    "### Aufgabe 2"
   ]
  },
  {
   "cell_type": "markdown",
   "metadata": {},
   "source": [
    "**a.)**\n",
    "\n",
    "Sortiere die Tupel in der Liste `tupels` aufsteigend nach ihrer Summe!\n",
    "\n",
    "**Hinweis:**  Schreibe dazu zuerst eine normale Funktion und löse die Aufgabe anschließend nochmal mit einer lambda-Funktion."
   ]
  },
  {
   "cell_type": "code",
   "execution_count": 28,
   "metadata": {},
   "outputs": [
    {
     "name": "stdout",
     "output_type": "stream",
     "text": [
      "[(4, 1), (10, 2), (3, 3), (11, 3), (5, 7), (0, 17)]\n"
     ]
    }
   ],
   "source": [
    "tupels = [(10, 2), (4, 1), (0, 17), (3, 3), (5, 7), (11, 3)]\n",
    "\n",
    "#def tsum(t):\n",
    "#    return t[0]+t[1]\n",
    "\n",
    "#tupels.sort(key=tsum)\n",
    "#print(tupels)\n",
    "\n",
    "tupels.sort(key=lambda t:t[0+1])\n",
    "print(tupels)\n"
   ]
  },
  {
   "cell_type": "markdown",
   "metadata": {
    "collapsed": true
   },
   "source": [
    "Erwartete Ausgabe (braucht nicht farbig zu sein):\n",
    "\n",
    "```python\n",
    "[(4, 1), (3, 3), (10, 2), (5, 7), (11, 3), (0, 17)]\n",
    "```"
   ]
  },
  {
   "cell_type": "markdown",
   "metadata": {},
   "source": [
    "**b.)** \n",
    "\n",
    "Sortiere die Liste `names` mit Namen nach dem Nachnamen. Du kannst annehmen, dass alle Namen in der Liste nur einen Vornamen enthalten. Das Format der Namen ist immer \"Vorname Nachname\".\n",
    "\n",
    "Überlege dir dazu zuerst, wie du den Nachnamen ermittelst und schreibe dann die entsprechende Funktion, die du der `.sort()`- Funktion übergibst.\n",
    "\n",
    "**Hinweis:**  Schreibe dazu zuerst eine normale Funktion und löse die Aufgabe anschließend nochmal mit einer lambda-Funktion."
   ]
  },
  {
   "cell_type": "code",
   "execution_count": 34,
   "metadata": {},
   "outputs": [
    {
     "name": "stdout",
     "output_type": "stream",
     "text": [
      "['Anton Adel', 'Anna Boa', 'Conny Coder', 'Willy Cordes', 'Elif Else', 'Sebastian Klarnamen', 'Anne Wortmann']\n"
     ]
    }
   ],
   "source": [
    "names = [\"Elif Else\", \"Sebastian Klarnamen\", \"Anna Boa\", \"Anton Adel\", \"Conny Coder\", \"Anne Wortmann\", \"Willy Cordes\"]\n",
    "    \n",
    "#def lastname(name):\n",
    "#    return \n",
    "    \n",
    "#names.sort(key=lastname)\n",
    "\n",
    "names.sort(key=lambda name:name[name.find(\" \"):])\n",
    "\n",
    "print(names)"
   ]
  },
  {
   "cell_type": "markdown",
   "metadata": {},
   "source": [
    "Erwartete Ausgabe:\n",
    "\n",
    "```python\n",
    "['Anton Adel', 'Anna Boa', 'Conny Coder', 'Willy Cordes', 'Elif Else', 'Sebastian Klarnamen', 'Anne Wortmann']\n",
    "```"
   ]
  },
  {
   "cell_type": "markdown",
   "metadata": {},
   "source": [
    "**c.)**\n",
    "\n",
    "Sortiere die Liste `sentences` absteigend nach der Anzahl der Wörter, die ein Element aus `sentences` jeweils enthält. Du kannst annehmen, dass in den Sätzen alle Wörter ordnungsgemäß mit Leerzeichen voneinander getrennt sind. :-)\n",
    "\n",
    "Überlege dir dazu zuerst, wie du die Anzahl Wörter in einem Satz ermitteln kannst.\n",
    "\n",
    "**Hinweis:**  Schreibe dazu zuerst eine normale Funktion und löse die Aufgabe anschließend nochmal mit einer lambda-Funktion."
   ]
  },
  {
   "cell_type": "code",
   "execution_count": 51,
   "metadata": {},
   "outputs": [
    {
     "name": "stdout",
     "output_type": "stream",
     "text": [
      "['Sie liefen weiter den Strand entlang.', 'Der Hund bellte laut.', 'Er rutschte aus.', 'Sie lachte.']\n"
     ]
    }
   ],
   "source": [
    "sentences = [\"Sie liefen weiter den Strand entlang.\", \"Der Hund bellte laut.\", \"Er rutschte aus.\", \"Sie lachte.\"]\n",
    "\n",
    "  \n",
    "#def slegth(s):\n",
    "#    return len(s.split(\" \"))*-1\n",
    "\n",
    "#sentences.sort(key=slegth)\n",
    "\n",
    "sentences.sort(key=lambda s:len(s.split(\" \")), reverse=True)\n",
    "\n",
    "print(sentences)"
   ]
  },
  {
   "cell_type": "markdown",
   "metadata": {},
   "source": [
    "Erwartete Ausgabe:\n",
    "\n",
    "```python\n",
    "['Sie liefen weiter den Strand entlang.', 'Der Hund bellte laut.', 'Er rutschte aus.', 'Sie lachte.']\n",
    "```"
   ]
  },
  {
   "cell_type": "markdown",
   "metadata": {},
   "source": [
    "### Zusatzaufgabe (schwer)\n",
    "\n",
    "Verändere den folgenden Code so, dass die Liste `l` nicht mehr innerhalb der Funktion `make_row()` überschrieben wird. Die Liste, die `make_row()` ausgibt, soll also identisch mit der bisherigen sein. `l` soll aber am Ende in seiner ursprünglichen Form ausgegeben werden."
   ]
  },
  {
   "cell_type": "code",
   "execution_count": 46,
   "metadata": {},
   "outputs": [
    {
     "name": "stdout",
     "output_type": "stream",
     "text": [
      "['o', 'x', 'x']\n",
      "['o', 'x', 'o']\n"
     ]
    }
   ],
   "source": [
    "l = [\"o\", \"x\", \"o\"]\n",
    "\n",
    "def make_row(row):\n",
    "    row = row[:]\n",
    "    row[2] = \"x\"\n",
    "    print(row)\n",
    "    \n",
    "make_row(l)\n",
    "print(l)"
   ]
  },
  {
   "cell_type": "markdown",
   "metadata": {},
   "source": [
    "Erwartete Ausgabe:\n",
    "\n",
    "```python\n",
    "['o', 'x', 'x']\n",
    "['o', 'x', 'o']\n",
    "```"
   ]
  },
  {
   "cell_type": "code",
   "execution_count": null,
   "metadata": {
    "collapsed": true
   },
   "outputs": [],
   "source": []
  }
 ],
 "metadata": {
  "kernelspec": {
   "display_name": "Python 3 (ipykernel)",
   "language": "python",
   "name": "python3"
  },
  "language_info": {
   "codemirror_mode": {
    "name": "ipython",
    "version": 3
   },
   "file_extension": ".py",
   "mimetype": "text/x-python",
   "name": "python",
   "nbconvert_exporter": "python",
   "pygments_lexer": "ipython3",
   "version": "3.9.13"
  }
 },
 "nbformat": 4,
 "nbformat_minor": 2
}
