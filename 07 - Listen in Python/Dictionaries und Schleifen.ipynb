{
 "cells": [
  {
   "cell_type": "markdown",
   "metadata": {},
   "source": [
    "## Dictionaries und Schleifen\n",
    "\n",
    "In dieser Lektion lernst du:\n",
    "\n",
    "- Wie du ein Dictionary Eintrag für Eintrag durchgehen kannst\n",
    "- Und wie du hierfür das Entpacken von Tupeln benötigst :)"
   ]
  },
  {
   "cell_type": "code",
   "execution_count": 1,
   "metadata": {},
   "outputs": [
    {
     "name": "stdout",
     "output_type": "stream",
     "text": [
      "München\n",
      "MUC\n",
      "Budapest\n",
      "BUD\n",
      "Helsinki\n",
      "HEL\n"
     ]
    }
   ],
   "source": [
    "d = {\"München\": \"MUC\",\n",
    "     \"Budapest\": \"BUD\", \n",
    "     \"Helsinki\": \"HEL\"}\n",
    "\n",
    "for key in d: \n",
    "    value = d[key]\n",
    "    print(key)\n",
    "    print(value)"
   ]
  },
  {
   "cell_type": "code",
   "execution_count": 23,
   "metadata": {},
   "outputs": [
    {
     "name": "stdout",
     "output_type": "stream",
     "text": [
      "{'name': 'Lara Croft', 'age': 87, 'occupation': 'Explorer'}\n",
      "<class 'str'>\n",
      "True\n",
      "{'name': '', 'age': 0, 'occupation': ''}\n"
     ]
    }
   ],
   "source": [
    "student_d = {\"name\": \"Lara Croft\",\n",
    "  \"age\": 87,\n",
    "  \"occupation\":\"Explorer\"}\n",
    "\n",
    "print(student_d)\n",
    "print(type(student_d[\"name\"]))\n",
    "print(isinstance(student_d[\"name\"],str))\n",
    "\n",
    "def erase_dict(dict):\n",
    "    dict_empty = {}\n",
    "    for key in dict:\n",
    "        value = dict[key]  \n",
    "        if isinstance(value, str):\n",
    "            value = \"\"\n",
    "        else:\n",
    "            value = 0\n",
    "        dict_empty[key] = value\n",
    "    return dict_empty\n",
    "\n",
    "print(erase_dict(student_d))"
   ]
  },
  {
   "cell_type": "code",
   "execution_count": 8,
   "metadata": {},
   "outputs": [
    {
     "name": "stdout",
     "output_type": "stream",
     "text": [
      "München: MUC\n",
      "Budapest: BUD\n",
      "Helsinki: HEL\n"
     ]
    }
   ],
   "source": [
    "for key, value in d.items():\n",
    "    print(key + \": \" + value)"
   ]
  },
  {
   "cell_type": "code",
   "execution_count": 27,
   "metadata": {},
   "outputs": [
    {
     "name": "stdout",
     "output_type": "stream",
     "text": [
      "{'name': '', 'age': 0, 'occupation': ''}\n"
     ]
    }
   ],
   "source": [
    "student_d = {\"name\": \"Lara Croft\",\n",
    "  \"age\": 87,\n",
    "  \"occupation\":\"Explorer\"}\n",
    "\n",
    "\n",
    "def erase_dict(dict):\n",
    "    dict_empty = {}\n",
    "    for key, value in dict.items(): \n",
    "        if isinstance(value, str):\n",
    "            value = \"\"\n",
    "        else:\n",
    "            value = 0\n",
    "        dict_empty[key] = value\n",
    "    return dict_empty\n",
    "\n",
    "print(erase_dict(student_d))"
   ]
  },
  {
   "cell_type": "code",
   "execution_count": null,
   "metadata": {},
   "outputs": [],
   "source": []
  }
 ],
 "metadata": {
  "kernelspec": {
   "display_name": "Python 3 (ipykernel)",
   "language": "python",
   "name": "python3"
  },
  "language_info": {
   "codemirror_mode": {
    "name": "ipython",
    "version": 3
   },
   "file_extension": ".py",
   "mimetype": "text/x-python",
   "name": "python",
   "nbconvert_exporter": "python",
   "pygments_lexer": "ipython3",
   "version": "3.9.13"
  }
 },
 "nbformat": 4,
 "nbformat_minor": 2
}
