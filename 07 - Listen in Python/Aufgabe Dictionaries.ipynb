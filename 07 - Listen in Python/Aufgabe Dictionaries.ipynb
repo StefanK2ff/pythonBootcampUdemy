{
 "cells": [
  {
   "cell_type": "markdown",
   "metadata": {},
   "source": [
    "## Aufgabe: Dictionaries"
   ]
  },
  {
   "cell_type": "markdown",
   "metadata": {},
   "source": [
    "**Aufgabe:**\n",
    "\n",
    "Lese die ../data/names.csv - Datei ein und berechne, welcher Name insgesamt in den gesamten USA am häufigsten vergeben wurde. \n",
    "\n",
    "**Tipps**:\n",
    "\n",
    "- Lies zuerst die Daten in ein Dictionary ein und zähle, wie oft jeder Vorname insgesamt vorgekommen ist.\n",
    "- Analysiere dann erst das Dictionary und finde den häufigsten Vornamen heraus.\n",
    "- Achte drauf, wenn du 2 Zahlen addieren möchtest, musst du ggf. einen String zuerst in eine Zahl umwandeln.\n",
    "- Schreibe den gesamten Code, der die Datei öffnet und durchgeht, in einer Zelle."
   ]
  },
  {
   "cell_type": "markdown",
   "metadata": {
    "collapsed": true
   },
   "source": [
    "## Ansatz 1: Liste aus Dictionaries"
   ]
  },
  {
   "cell_type": "code",
   "execution_count": 24,
   "metadata": {},
   "outputs": [
    {
     "name": "stdout",
     "output_type": "stream",
     "text": [
      "['2', 'Annie', '1910', 'F', 'AK', '12']\n",
      "['3', 'Anna', '1910', 'F', 'AK', '10']\n",
      "['4', 'Margaret', '1910', 'F', 'AK', '8']\n",
      "['5', 'Helen', '1910', 'F', 'AK', '7']\n",
      "['6', 'Elsie', '1910', 'F', 'AK', '6']\n",
      "['7', 'Lucy', '1910', 'F', 'AK', '6']\n",
      "[{'Id': '7', 'Name': 'Lucy', 'Year': '1910', 'Gender': 'F', 'State': 'AK', 'Count': '6'}, {'Id': '7', 'Name': 'Lucy', 'Year': '1910', 'Gender': 'F', 'State': 'AK', 'Count': '6'}, {'Id': '7', 'Name': 'Lucy', 'Year': '1910', 'Gender': 'F', 'State': 'AK', 'Count': '6'}, {'Id': '7', 'Name': 'Lucy', 'Year': '1910', 'Gender': 'F', 'State': 'AK', 'Count': '6'}, {'Id': '7', 'Name': 'Lucy', 'Year': '1910', 'Gender': 'F', 'State': 'AK', 'Count': '6'}, {'Id': '7', 'Name': 'Lucy', 'Year': '1910', 'Gender': 'F', 'State': 'AK', 'Count': '6'}]\n"
     ]
    }
   ],
   "source": [
    "with open(\"../data/names.csv\", \"r\") as file:\n",
    "\n",
    "    line_dict = {}\n",
    "    table = []\n",
    "    \n",
    "    #Make empty dict from first line (dynamic):\n",
    "    for line in file:\n",
    "        linedata = line.strip().split(\",\")\n",
    "        for elem in linedata:\n",
    "            line_dict[elem] = \"\"\n",
    "        break\n",
    "    \n",
    "    #jump to second line\n",
    "    next(file)\n",
    "    \n",
    "    #zeile 2 bis ende in dict packen:\n",
    "    counter = 0\n",
    "    for line in file:\n",
    "         \n",
    "        \n",
    "        if counter == 6:\n",
    "            break\n",
    "        linedata = line.strip().split(\",\")\n",
    "        print(linedata)\n",
    "        i = 0\n",
    "        for key in line_dict:\n",
    "            line_dict[key] = linedata[i]\n",
    "            i = i+1\n",
    "        table.append(line_dict)\n",
    "        counter = counter+1\n",
    "    print(table)\n",
    "    "
   ]
  },
  {
   "cell_type": "markdown",
   "metadata": {
    "collapsed": true
   },
   "source": [
    "## Ansatz 2: Dictonary direkt"
   ]
  },
  {
   "cell_type": "code",
   "execution_count": 47,
   "metadata": {},
   "outputs": [
    {
     "name": "stdout",
     "output_type": "stream",
     "text": [
      "Der meistvergebene Name lautet James mit 4957166 Verwendungen.\n"
     ]
    }
   ],
   "source": [
    "with open(\"../data/names.csv\", \"r\") as file:\n",
    "    table_d = {}\n",
    "    counter = 0\n",
    "    #skip headline\n",
    "    next(file)\n",
    "    \n",
    "    # Namen und Anzahl in Dictonary überführen\n",
    "    for line in file:\n",
    "        \n",
    "        linedata = line.strip().split(\",\")\n",
    "        \n",
    "        if linedata[1] in table_d:\n",
    "            table_d[linedata[1]] = table_d[linedata[1]] + int(linedata[5])\n",
    "        else:\n",
    "            table_d[linedata[1]] = int(linedata[5])\n",
    "    \n",
    "    # Größten Wert rausfinden\n",
    "    \n",
    "    result =  [\"name\", 0]\n",
    "    for name, count in table_d.items():\n",
    "        if count > result [1]:\n",
    "            result[1] = count\n",
    "            result[0] = name\n",
    "    print(\"Der meistvergebene Name lautet \" + result[0] + \" mit \" + str(result[1]) + \" Verwendungen.\")\n",
    "        "
   ]
  },
  {
   "cell_type": "code",
   "execution_count": null,
   "metadata": {},
   "outputs": [],
   "source": []
  }
 ],
 "metadata": {
  "kernelspec": {
   "display_name": "Python 3 (ipykernel)",
   "language": "python",
   "name": "python3"
  },
  "language_info": {
   "codemirror_mode": {
    "name": "ipython",
    "version": 3
   },
   "file_extension": ".py",
   "mimetype": "text/x-python",
   "name": "python",
   "nbconvert_exporter": "python",
   "pygments_lexer": "ipython3",
   "version": "3.9.13"
  }
 },
 "nbformat": 4,
 "nbformat_minor": 2
}
