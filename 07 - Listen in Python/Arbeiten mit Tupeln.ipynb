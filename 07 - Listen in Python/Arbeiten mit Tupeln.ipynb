{
 "cells": [
  {
   "cell_type": "markdown",
   "metadata": {},
   "source": [
    "## Arbeiten mit Tupeln\n",
    "\n",
    "In dieser Lektion lernst du:\n",
    "\n",
    "- Wie du Tupel verwenden kannst, um mehrere Rückgabewerte einer Funktion zu modellieren\n",
    "- Wie du Tupel entpacken kannst"
   ]
  },
  {
   "cell_type": "code",
   "execution_count": 14,
   "metadata": {},
   "outputs": [
    {
     "name": "stdout",
     "output_type": "stream",
     "text": [
      "\n",
      "5\n",
      "\n",
      "10\n",
      "5\n"
     ]
    }
   ],
   "source": [
    "student = (\"\",5,\"\")\n",
    "\n",
    "# Das nennt sich entpacken // Variablen existieren außerhalb, man verändert nicht den Tupel selbst\n",
    "name, age, subject = student\n",
    "\n",
    "# name = student[0]\n",
    "# age = student[1]\n",
    "# subject = student[2]\n",
    "\n",
    "print(name)\n",
    "print(age)\n",
    "print(subject)\n",
    "\n",
    "age = age+5\n",
    "#student[1]=age+10\n",
    "print(age)\n",
    "print(student[1])"
   ]
  },
  {
   "cell_type": "code",
   "execution_count": 5,
   "metadata": {},
   "outputs": [
    {
     "name": "stdout",
     "output_type": "stream",
     "text": [
      "Max Müller\n",
      "22\n",
      "Informatik\n"
     ]
    }
   ],
   "source": [
    "# Rückgabe mehrerer Werte aus einer Funktion wird über Tupel gelöst\n",
    "\n",
    "def get_student():\n",
    "    return (\"Max Müller\", 22, \"Informatik\")\n",
    "\n",
    "name, age, subject = get_student()\n",
    "\n",
    "print(name)\n",
    "print(age)\n",
    "print(subject)"
   ]
  },
  {
   "cell_type": "code",
   "execution_count": 9,
   "metadata": {},
   "outputs": [
    {
     "name": "stdout",
     "output_type": "stream",
     "text": [
      "Max Müller\n",
      "22\n",
      "Monika Mustermann\n",
      "23\n"
     ]
    }
   ],
   "source": [
    "students = [\n",
    "    (\"Max Müller\", 22),\n",
    "    (\"Monika Mustermann\", 23)\n",
    "]\n",
    "\n",
    "for name, age in students:\n",
    "    print(name)\n",
    "    print(age)\n"
   ]
  },
  {
   "cell_type": "code",
   "execution_count": null,
   "metadata": {
    "collapsed": true
   },
   "outputs": [],
   "source": []
  }
 ],
 "metadata": {
  "kernelspec": {
   "display_name": "Python 3 (ipykernel)",
   "language": "python",
   "name": "python3"
  },
  "language_info": {
   "codemirror_mode": {
    "name": "ipython",
    "version": 3
   },
   "file_extension": ".py",
   "mimetype": "text/x-python",
   "name": "python",
   "nbconvert_exporter": "python",
   "pygments_lexer": "ipython3",
   "version": "3.9.13"
  }
 },
 "nbformat": 4,
 "nbformat_minor": 2
}
