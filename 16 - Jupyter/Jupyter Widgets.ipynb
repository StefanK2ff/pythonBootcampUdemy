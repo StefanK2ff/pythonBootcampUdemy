{
 "cells": [
  {
   "cell_type": "markdown",
   "metadata": {},
   "source": [
    "# Jupter Widgets: Erstelle interaktive Notebooks\n",
    "\n",
    "In dieser Lektion lernst du:\n",
    "\n",
    "- Wie du Texteingabefelder, Buttons und Slider erstellst.\n",
    "- Link: https://ipywidgets.readthedocs.io/en/stable/examples/Widget%20List.html#Complete-list"
   ]
  },
  {
   "cell_type": "code",
   "execution_count": 1,
   "metadata": {},
   "outputs": [],
   "source": [
    "import ipywidgets as widgets\n",
    "from IPython.display import display"
   ]
  },
  {
   "cell_type": "code",
   "execution_count": 13,
   "metadata": {},
   "outputs": [
    {
     "data": {
      "application/vnd.jupyter.widget-view+json": {
       "model_id": "957944ab12994523bbf14ce0fad27467",
       "version_major": 2,
       "version_minor": 0
      },
      "text/plain": [
       "Button(description='Click me!', style=ButtonStyle())"
      ]
     },
     "metadata": {},
     "output_type": "display_data"
    },
    {
     "data": {
      "application/vnd.jupyter.widget-view+json": {
       "model_id": "7b9325a071d144e0943045cf60499320",
       "version_major": 2,
       "version_minor": 0
      },
      "text/plain": [
       "Output()"
      ]
     },
     "metadata": {},
     "output_type": "display_data"
    }
   ],
   "source": [
    "# Zeigt einen Button\n",
    "\n",
    "button = widgets.Button(description=\"Click me!\")\n",
    "output = widgets.Output()\n",
    "\n",
    "display(button, output)\n",
    "\n",
    "# Click Listener with custom Event, when Button was clicked\n",
    "\n",
    "def on_button_clicked(b):\n",
    "    with output:\n",
    "        print(\"Button clicked.\")\n",
    "\n",
    "button.on_click(on_button_clicked)"
   ]
  },
  {
   "cell_type": "code",
   "execution_count": 28,
   "metadata": {},
   "outputs": [
    {
     "data": {
      "application/vnd.jupyter.widget-view+json": {
       "model_id": "2630deb92b8f429389d5b29a4bdc8e03",
       "version_major": 2,
       "version_minor": 0
      },
      "text/plain": [
       "Text(value='', description='Texteingabe:', placeholder='Text eingeben')"
      ]
     },
     "metadata": {},
     "output_type": "display_data"
    },
    {
     "name": "stdout",
     "output_type": "stream",
     "text": [
      "['_dom_classes', '_model_module', '_model_module_version', '_model_name', '_view_count', '_view_module', '_view_module_version', '_view_name', 'continuous_update', 'description', 'description_tooltip', 'disabled', 'layout', 'placeholder', 'style', 'value']\n"
     ]
    }
   ],
   "source": [
    "input = widgets.Text(description=\"Texteingabe:\", placeholder=\"Text eingeben\", layout=widgets.Layout(position='relative'))\n",
    "display(input)\n",
    "print(input.keys)"
   ]
  },
  {
   "cell_type": "code",
   "execution_count": 33,
   "metadata": {},
   "outputs": [
    {
     "data": {
      "application/vnd.jupyter.widget-view+json": {
       "model_id": "6b646d9f48d543baa410bfe8a3386fc5",
       "version_major": 2,
       "version_minor": 0
      },
      "text/plain": [
       "IntText(value=123, description='Beschriftung:')"
      ]
     },
     "metadata": {},
     "output_type": "display_data"
    }
   ],
   "source": [
    "widgets.IntText(description=\"Beschriftung:\", value=123)\n",
    "\n",
    "# provides a Box for Intergers"
   ]
  },
  {
   "cell_type": "code",
   "execution_count": 34,
   "metadata": {},
   "outputs": [
    {
     "data": {
      "application/vnd.jupyter.widget-view+json": {
       "model_id": "8f0fd43e76724ec5acb6039f091f1545",
       "version_major": 2,
       "version_minor": 0
      },
      "text/plain": [
       "FloatText(value=123.5, description='Beschriftung:')"
      ]
     },
     "metadata": {},
     "output_type": "display_data"
    }
   ],
   "source": [
    "widgets.FloatText(description=\"Beschriftung:\", value=123.5)\n",
    "\n",
    "# provides an input for float decimals"
   ]
  },
  {
   "cell_type": "code",
   "execution_count": 53,
   "metadata": {},
   "outputs": [
    {
     "name": "stdout",
     "output_type": "stream",
     "text": [
      "zutreffendes bitte ankreuzen: \n"
     ]
    },
    {
     "data": {
      "application/vnd.jupyter.widget-view+json": {
       "model_id": "ee0ba22e14c7486ebab2d582904986de",
       "version_major": 2,
       "version_minor": 0
      },
      "text/plain": [
       "Checkbox(value=True, description='Ich mag python:')"
      ]
     },
     "metadata": {},
     "output_type": "display_data"
    },
    {
     "data": {
      "application/vnd.jupyter.widget-view+json": {
       "model_id": "353ada0e661e49f2bee32c3a134f10d8",
       "version_major": 2,
       "version_minor": 0
      },
      "text/plain": [
       "Checkbox(value=True, description='Ich finde jupyter notebooks okay:')"
      ]
     },
     "metadata": {},
     "output_type": "display_data"
    },
    {
     "data": {
      "application/vnd.jupyter.widget-view+json": {
       "model_id": "e1032a5c5fe54619874394223bc45a2d",
       "version_major": 2,
       "version_minor": 0
      },
      "text/plain": [
       "Checkbox(value=False, description='Langweilig:')"
      ]
     },
     "metadata": {},
     "output_type": "display_data"
    },
    {
     "name": "stdout",
     "output_type": "stream",
     "text": [
      "Ich mag python: unchecked\n",
      "Ich mag python: checked\n",
      "Ich finde jupyter notebooks okay: unchecked\n",
      "Ich finde jupyter notebooks okay: checked\n",
      "Langweilig: checked\n",
      "Langweilig: unchecked\n"
     ]
    }
   ],
   "source": [
    "def on_value_change(change):\n",
    "    checkbox = change['owner']\n",
    "    status = \"checked\" if checkbox.value else \"unchecked\"\n",
    "    print(f\"{checkbox.description} {status}\")\n",
    "    \n",
    "print(\"zutreffendes bitte ankreuzen: \")\n",
    "cb1 = widgets.Checkbox(description=\"Ich mag python:\", value=True)\n",
    "cb2 = widgets.Checkbox(description=\"Ich finde jupyter notebooks okay:\", value=True)\n",
    "cb3 = widgets.Checkbox(description=\"Langweilig:\", value=False)\n",
    "\n",
    "cb1.observe(on_value_change, 'value')\n",
    "cb2.observe(on_value_change, 'value')\n",
    "cb3.observe(on_value_change, 'value')\n",
    "\n",
    "display(cb1, cb2, cb3)\n"
   ]
  },
  {
   "cell_type": "code",
   "execution_count": 7,
   "metadata": {},
   "outputs": [
    {
     "data": {
      "application/vnd.jupyter.widget-view+json": {
       "model_id": "27fbc78a24a84dc7acf871752e60257a",
       "version_major": 2,
       "version_minor": 0
      },
      "text/plain": [
       "RadioButtons(description='Welche Stadt?:', options=('München', 'Berlin', 'Köln'), value='München')"
      ]
     },
     "metadata": {},
     "output_type": "display_data"
    }
   ],
   "source": [
    "widgets.RadioButtons(\n",
    "    options=['München', 'Berlin', 'Köln'],\n",
    "    description='Welche Stadt?:',\n",
    "    disabled=False\n",
    ")"
   ]
  },
  {
   "cell_type": "code",
   "execution_count": 8,
   "metadata": {},
   "outputs": [
    {
     "data": {
      "application/vnd.jupyter.widget-view+json": {
       "model_id": "80df7b2909074c2d99612e37a9a3e962",
       "version_major": 2,
       "version_minor": 0
      },
      "text/plain": [
       "Dropdown(description='Welche Stadt?:', options=('München', 'Berlin', 'Köln'), value='München')"
      ]
     },
     "metadata": {},
     "output_type": "display_data"
    }
   ],
   "source": [
    "widgets.Dropdown(\n",
    "    options=['München', 'Berlin', 'Köln'],\n",
    "    description='Welche Stadt?:',\n",
    "    disabled=False\n",
    ")"
   ]
  },
  {
   "cell_type": "code",
   "execution_count": null,
   "metadata": {
    "collapsed": true
   },
   "outputs": [],
   "source": []
  }
 ],
 "metadata": {
  "kernelspec": {
   "display_name": "Python 3 (ipykernel)",
   "language": "python",
   "name": "python3"
  },
  "language_info": {
   "codemirror_mode": {
    "name": "ipython",
    "version": 3
   },
   "file_extension": ".py",
   "mimetype": "text/x-python",
   "name": "python",
   "nbconvert_exporter": "python",
   "pygments_lexer": "ipython3",
   "version": "3.9.13"
  }
 },
 "nbformat": 4,
 "nbformat_minor": 2
}
