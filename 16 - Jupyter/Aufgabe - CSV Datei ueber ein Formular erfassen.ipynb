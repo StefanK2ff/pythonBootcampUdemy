{
 "cells": [
  {
   "cell_type": "markdown",
   "metadata": {},
   "source": [
    "## Aufgabe: CSV-Datei über ein Formular erfassen\n",
    "\n",
    "Stell dir vor, du möchtest die Anwesenheit von Studierenden überprüfen. Dazu möchtest du zu jedem Studierenden folgende Daten erfassen:\n",
    "- Vorname\n",
    "- Nachname\n",
    "- Alter\n",
    "- Studienfach (Dropdown)\n",
    "\n",
    "Es gibt 5 verschiedene Studienfächer:\n",
    "\n",
    "- Mathe\n",
    "- Informatik\n",
    "- Philosophie\n",
    "- Kulturwissenschaften\n",
    "- Psychologie\n",
    "\n",
    "Aufgabe: Erstelle ein komfortables Formular, mit dem du die Studierenden erfassen kannst! Sorge dafür, dass nach jedem Schritt alle bisher erfassten Daten in einer .csv-Datei (students.csv) abgespeichert werden. In der .csv-Datei sollen 3 Spalten existieren: Vorname, Nachname und Studienfach.\n",
    "\n",
    "Verwende für den Vor- bzw. Nachnamen ein Textfeld und für das Studienfach ein Auswahlmenü, mit dem das Studienfach ausgewählt werden kann. Erstelle dann einen Button, mit dem der aktuelle Studierende in die .csv-Datei geschrieben wird und über das Formular anschließend der nächste Studierende erfasst werden kann."
   ]
  },
  {
   "cell_type": "code",
   "execution_count": 11,
   "metadata": {},
   "outputs": [
    {
     "data": {
      "application/vnd.jupyter.widget-view+json": {
       "model_id": "1f22d0ccced84310825e13edd13d29de",
       "version_major": 2,
       "version_minor": 0
      },
      "text/plain": [
       "Text(value='BOB', description='Name', placeholder='Name')"
      ]
     },
     "metadata": {},
     "output_type": "display_data"
    },
    {
     "data": {
      "application/vnd.jupyter.widget-view+json": {
       "model_id": "f2cb50fa8055410bbdbadc51a62b002e",
       "version_major": 2,
       "version_minor": 0
      },
      "text/plain": [
       "Text(value='ROSS', description='Nachname', placeholder='Nachname')"
      ]
     },
     "metadata": {},
     "output_type": "display_data"
    },
    {
     "data": {
      "application/vnd.jupyter.widget-view+json": {
       "model_id": "a14198499af14015922ccc7d1d9d8796",
       "version_major": 2,
       "version_minor": 0
      },
      "text/plain": [
       "IntText(value=20, description='Alter')"
      ]
     },
     "metadata": {},
     "output_type": "display_data"
    },
    {
     "data": {
      "application/vnd.jupyter.widget-view+json": {
       "model_id": "4519f580596f47daa487999d0b72b711",
       "version_major": 2,
       "version_minor": 0
      },
      "text/plain": [
       "Dropdown(description='Studienfach', options=('Philosophie', 'Mathe', 'Kulturwissenschaften', 'Informatik', 'Ps…"
      ]
     },
     "metadata": {},
     "output_type": "display_data"
    },
    {
     "data": {
      "application/vnd.jupyter.widget-view+json": {
       "model_id": "811a757aae4f42a6a89b27b13e5ca1e9",
       "version_major": 2,
       "version_minor": 0
      },
      "text/plain": [
       "Button(description='Speichern', style=ButtonStyle())"
      ]
     },
     "metadata": {},
     "output_type": "display_data"
    }
   ],
   "source": [
    "import ipywidgets as widgets\n",
    "from IPython.display import display\n",
    "import csv\n",
    "import os\n",
    "\n",
    "# Creating a student object \n",
    "\n",
    "# HELPER Function, save Instance to csv\n",
    "def save_instance_to_csv(instance, file_path):\n",
    "    data = [getattr(instance, attr) for attr in instance.__dict__ if not attr.startswith('__') and not attr.startswith('_')]\n",
    "\n",
    "    file_exists = os.path.isfile(file_path)\n",
    "\n",
    "    with open(file_path, 'a', newline='') as csv_file:\n",
    "        writer = csv.writer(csv_file)\n",
    "\n",
    "        if not file_exists:\n",
    "            attributes = [attr for attr in instance.__dict__.keys() if not attr.startswith('__') and not attr.startswith('_')]\n",
    "            writer.writerow(list(attributes))  # Write header if file is newly created\n",
    "\n",
    "        writer.writerow(data)  # Write data as a new line\n",
    "\n",
    "class Student:\n",
    "    allowed_courses = {\"Mathe\", \"Informatik\", \"Philosophie\", \"Kulturwissenschaften\", \"Psychologie\"}\n",
    "    \n",
    "    def __init__(self):\n",
    "        # Create the widget objects\n",
    "        self._name_widget = widgets.Text(description=\"Name\", placeholder=\"Name\", value=\"BOB\")\n",
    "        self._family_name_widget = widgets.Text(description=\"Nachname\", placeholder=\"Nachname\", value=\"ROSS\")\n",
    "        self._age_widget = widgets.IntText(description=\"Alter\", value=20)\n",
    "        self._course_widget = widgets.Dropdown(\n",
    "            options=list(self.allowed_courses),\n",
    "            value=list(self.allowed_courses)[0],\n",
    "            description='Studienfach'\n",
    "        )\n",
    "        \n",
    "        # Initialize the data attributes\n",
    "        self.name = \"\"\n",
    "        self.family_name = \"\"\n",
    "        self.age = 0\n",
    "        self.course = \"\"\n",
    "        \n",
    "        # Display Input widgets\n",
    "        display(self._name_widget, self._family_name_widget, self._age_widget, self._course_widget)\n",
    "        \n",
    "        # Create Save Button\n",
    "        save_button = widgets.Button(description=\"Speichern\")\n",
    "               \n",
    "        # Display Save Button\n",
    "        display(save_button)\n",
    "        \n",
    "        # HELPER Function, to check if value is empty\n",
    "        def value_not_empty(widget):\n",
    "            if widget.value == None or 0:\n",
    "                return False\n",
    "            else:\n",
    "                return True\n",
    "        \n",
    "        # HELPER Function, disable all inputs\n",
    "        def input_disabler(widget):\n",
    "            widget.disabled = True\n",
    "\n",
    "        \n",
    "        # Create Save Function\n",
    "        def on_button_click(button):\n",
    "            \n",
    "            # check if values are given\n",
    "            if value_not_empty(self._name_widget) and value_not_empty(self._family_name_widget):\n",
    "                \n",
    "                # disabling all inputs for current student\n",
    "                input_disabler(self._name_widget)\n",
    "                input_disabler(self._family_name_widget)\n",
    "                input_disabler(self._age_widget)\n",
    "                input_disabler(self._course_widget)\n",
    "                save_button.disabled = True\n",
    "                \n",
    "                # Update the data attributes with the widget values\n",
    "                self.name = self._name_widget.value\n",
    "                self.family_name = self._family_name_widget.value\n",
    "                self.age = self._age_widget.value\n",
    "                self.course = self._course_widget.value\n",
    "                \n",
    "                # Save data attrubtes to csv\n",
    "                save_instance_to_csv(self, \"results.csv\")\n",
    "                print(\"Werte gespeichert\")\n",
    "                \n",
    "                # Open new Input field\n",
    "                new_student = Student()\n",
    "                \n",
    "            else:\n",
    "                print(\"Werte nicht vollständig, bitte prüfe die Eingabe\")\n",
    "            \n",
    "        # Linking Button with Function\n",
    "        save_button.on_click(on_button_click)\n",
    "   \n",
    "# Creating an instance of the Student class\n",
    "new_student = Student()\n",
    "\n",
    "\n"
   ]
  },
  {
   "cell_type": "code",
   "execution_count": null,
   "metadata": {},
   "outputs": [],
   "source": []
  }
 ],
 "metadata": {
  "kernelspec": {
   "display_name": "Python 3 (ipykernel)",
   "language": "python",
   "name": "python3"
  },
  "language_info": {
   "codemirror_mode": {
    "name": "ipython",
    "version": 3
   },
   "file_extension": ".py",
   "mimetype": "text/x-python",
   "name": "python",
   "nbconvert_exporter": "python",
   "pygments_lexer": "ipython3",
   "version": "3.9.13"
  }
 },
 "nbformat": 4,
 "nbformat_minor": 2
}
