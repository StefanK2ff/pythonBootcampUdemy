{
 "cells": [
  {
   "cell_type": "markdown",
   "metadata": {},
   "source": [
    "# Jupter Widgets: Erstelle interaktive Notebooks\n",
    "\n",
    "In dieser Lektion lernst du, wie du:\n",
    "\n",
    "- Texteingabefelder, Buttons und Slider erstellst\n",
    "- Und mit denen interagieren kannst."
   ]
  },
  {
   "cell_type": "code",
   "execution_count": 1,
   "metadata": {},
   "outputs": [],
   "source": [
    "import ipywidgets as widgets\n",
    "from IPython.display import display"
   ]
  },
  {
   "cell_type": "code",
   "execution_count": 17,
   "metadata": {},
   "outputs": [
    {
     "data": {
      "text/plain": [
       "['_dom_classes',\n",
       " '_model_module',\n",
       " '_model_module_version',\n",
       " '_model_name',\n",
       " '_view_count',\n",
       " '_view_module',\n",
       " '_view_module_version',\n",
       " '_view_name',\n",
       " 'continuous_update',\n",
       " 'description',\n",
       " 'description_tooltip',\n",
       " 'disabled',\n",
       " 'layout',\n",
       " 'step',\n",
       " 'style',\n",
       " 'value']"
      ]
     },
     "metadata": {},
     "output_type": "display_data"
    },
    {
     "data": {
      "text/plain": [
       "False"
      ]
     },
     "metadata": {},
     "output_type": "display_data"
    },
    {
     "data": {
      "text/plain": [
       "1"
      ]
     },
     "metadata": {},
     "output_type": "display_data"
    },
    {
     "data": {
      "application/vnd.jupyter.widget-view+json": {
       "model_id": "2814f7100fbb45a3a2c1361f4d09f09f",
       "version_major": 2,
       "version_minor": 0
      },
      "text/plain": [
       "IntText(value=0, description='Alter:')"
      ]
     },
     "metadata": {},
     "output_type": "display_data"
    }
   ],
   "source": [
    "age = widgets.IntText(description=\"Alter:\")\n",
    "display(age.keys)\n",
    "display(age.continuous_update)\n",
    "display(age.step)\n",
    "display(age)"
   ]
  },
  {
   "cell_type": "code",
   "execution_count": 19,
   "metadata": {},
   "outputs": [
    {
     "name": "stdout",
     "output_type": "stream",
     "text": [
      "2\n"
     ]
    }
   ],
   "source": [
    "print(age.value)"
   ]
  },
  {
   "cell_type": "code",
   "execution_count": 24,
   "metadata": {},
   "outputs": [
    {
     "data": {
      "application/vnd.jupyter.widget-view+json": {
       "model_id": "fbb32d138f204a45ac645fd9e871acc4",
       "version_major": 2,
       "version_minor": 0
      },
      "text/plain": [
       "Button(description='OK', style=ButtonStyle())"
      ]
     },
     "metadata": {},
     "output_type": "display_data"
    },
    {
     "data": {
      "application/vnd.jupyter.widget-view+json": {
       "model_id": "4ca5df80b4a54837a5c8b3d7cdc961a6",
       "version_major": 2,
       "version_minor": 0
      },
      "text/plain": [
       "Button(description='Button 1', style=ButtonStyle())"
      ]
     },
     "metadata": {},
     "output_type": "display_data"
    },
    {
     "data": {
      "application/vnd.jupyter.widget-view+json": {
       "model_id": "e8b9b6bc063c4b28a020a0051273fabf",
       "version_major": 2,
       "version_minor": 0
      },
      "text/plain": [
       "Button(description='Button 2', style=ButtonStyle())"
      ]
     },
     "metadata": {},
     "output_type": "display_data"
    },
    {
     "name": "stdout",
     "output_type": "stream",
     "text": [
      "Button 'OK' clicked\n",
      "Button 'Button 1' clicked\n",
      "Button 'Button 2' clicked\n"
     ]
    }
   ],
   "source": [
    "button = widgets.Button(description=\"OK\")\n",
    "display(button)\n",
    "\n",
    "# Der Parameter muss angegeben werden, wiel er erwartet wird, er wird jedoch eigentlich nicht gebraucht für diese Funktion\n",
    "\n",
    "def on_button_click(p):\n",
    "    print(\"on_button_click()\")\n",
    "\n",
    "# Wenn geklickt wird: on_button_click(button)\n",
    "button.on_click(on_button_click_param)\n",
    "\n",
    "#in this example we make use of the parameter to find out which button has been clicked\n",
    "\n",
    "def on_button_click_param(button):\n",
    "    print(f\"Button '{button.description}' clicked\")\n",
    "\n",
    "button1 = widgets.Button(description=\"Button 1\")\n",
    "button2 = widgets.Button(description=\"Button 2\")\n",
    "\n",
    "button1.on_click(lambda _: on_button_click_param(button1))\n",
    "button2.on_click(lambda _: on_button_click_param(button2))\n",
    "\n",
    "display(button1, button2)"
   ]
  },
  {
   "cell_type": "code",
   "execution_count": 19,
   "metadata": {},
   "outputs": [
    {
     "data": {
      "application/vnd.jupyter.widget-view+json": {
       "model_id": "ff948ed5902c4b7691d15d6f8cc58749"
      }
     },
     "metadata": {},
     "output_type": "display_data"
    },
    {
     "data": {
      "application/vnd.jupyter.widget-view+json": {
       "model_id": "e62d0baa869342c7b066f6682a0f6f43"
      }
     },
     "metadata": {},
     "output_type": "display_data"
    },
    {
     "name": "stdout",
     "output_type": "stream",
     "text": [
      "30\n",
      "26\n"
     ]
    }
   ],
   "source": [
    "age = widgets.IntText(description=\"Alter:\", value=25)\n",
    "display(age)\n",
    "button = widgets.Button(description=\"OK\")\n",
    "display(button)\n",
    "\n",
    "def on_button_click(p):\n",
    "    print(age.value)\n",
    "\n",
    "# Wenn geklickt wird: on_button_click(button)\n",
    "button.on_click(on_button_click)"
   ]
  },
  {
   "cell_type": "code",
   "execution_count": null,
   "metadata": {
    "collapsed": true
   },
   "outputs": [],
   "source": []
  }
 ],
 "metadata": {
  "kernelspec": {
   "display_name": "Python 3 (ipykernel)",
   "language": "python",
   "name": "python3"
  },
  "language_info": {
   "codemirror_mode": {
    "name": "ipython",
    "version": 3
   },
   "file_extension": ".py",
   "mimetype": "text/x-python",
   "name": "python",
   "nbconvert_exporter": "python",
   "pygments_lexer": "ipython3",
   "version": "3.9.13"
  }
 },
 "nbformat": 4,
 "nbformat_minor": 2
}
