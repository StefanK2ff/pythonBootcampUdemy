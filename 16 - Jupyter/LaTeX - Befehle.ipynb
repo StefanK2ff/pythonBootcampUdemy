{
 "cells": [
  {
   "cell_type": "markdown",
   "metadata": {},
   "source": [
    "In dieser Lektion geht's darum, wie du mathematische Formeln in das Jupyter Notebook einbinden kannst.\n",
    "\n",
    "Links:\n",
    "\n",
    "- LaTex Math: https://en.wikibooks.org/wiki/LaTeX/Mathematics\n",
    "- Mathematische Zeichen: http://oeis.org/wiki/List_of_LaTeX_mathematical_symbols"
   ]
  },
  {
   "cell_type": "markdown",
   "metadata": {},
   "source": [
    "Normaler Text...\n",
    "Das \"Dollar-Zeichen\" macht dem Jupyter notbook klar, dass jetzt mathematische formel gezeigt werden.\n",
    "\n",
    "$ \\alpha < b < \\gamma $\n",
    "\n",
    "$ a^2 < \\sqrt{b} $\n"
   ]
  },
  {
   "cell_type": "markdown",
   "metadata": {
    "collapsed": true
   },
   "source": [
    "Der Mathematische Ausdruck\n",
    "    \n",
    "$ k_{n+1} = n^2 + k_n^2 - k_{n-1} $"
   ]
  },
  {
   "cell_type": "markdown",
   "metadata": {
    "collapsed": true
   },
   "source": [
    "Der Mathematische Ausdruck wird mit zwei $$ in die Mitte grückt\n",
    "    \n",
    "$$ \\frac{n!}{k!(n-k)!} = \\binom{n}{k} $$"
   ]
  }
 ],
 "metadata": {
  "kernelspec": {
   "display_name": "Python 3 (ipykernel)",
   "language": "python",
   "name": "python3"
  },
  "language_info": {
   "codemirror_mode": {
    "name": "ipython",
    "version": 3
   },
   "file_extension": ".py",
   "mimetype": "text/x-python",
   "name": "python",
   "nbconvert_exporter": "python",
   "pygments_lexer": "ipython3",
   "version": "3.9.13"
  }
 },
 "nbformat": 4,
 "nbformat_minor": 2
}
