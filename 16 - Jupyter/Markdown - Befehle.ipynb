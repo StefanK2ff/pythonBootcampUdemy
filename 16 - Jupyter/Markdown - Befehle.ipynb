{
 "cells": [
  {
   "cell_type": "markdown",
   "metadata": {},
   "source": [
    "# Überschrift\n",
    "\n",
    "## Überschrift 2. Ordnung\n",
    "\n",
    "### Überschrift 3. Ordnung\n",
    "\n",
    "#### Überschrift 4. Ordnung\n",
    "\n",
    "##### 5. Ordnung\n",
    "\n",
    "###### 6. Ordnung\n",
    "\n",
    "Ich bin ein **fetter** Test\n",
    "Ich bin ein *kursiver* Text"
   ]
  },
  {
   "cell_type": "markdown",
   "metadata": {},
   "source": [
    "- List mit Minus\n",
    "- Weiterer Punkt\n",
    "- Noch ein Punkt\n",
    "    - Einrückungen mit Tabulator\n",
    "    - noch eine Einrückung\n",
    "        - Dritte Ebene \n",
    "            - 4. Ebene\n",
    "        - 3.\n",
    "    - 2.\n",
    "- Endlich zurück"
   ]
  },
  {
   "cell_type": "markdown",
   "metadata": {},
   "source": [
    "1. Liste\n",
    "1. Weiterer Punkt\n",
    "1. Noch ein Punkt\n",
    "    1. geht auch hier\n",
    "    1. und so weiter\n",
    "        1. ditte Ebene"
   ]
  },
  {
   "cell_type": "markdown",
   "metadata": {},
   "source": [
    "Das hier ist ganz normaler Text\n",
    "\n",
    "> *Und dieser Text soll eingerückt sein*\n",
    "\n",
    "> *weiter zitatleiste*\n",
    "\n",
    "(Max Mustermann, 2017)"
   ]
  },
  {
   "cell_type": "markdown",
   "metadata": {},
   "source": [
    "| Spalteüberschrift 1 | Überschrift 2 |\n",
    "|---------------------|---------------|\n",
    "| Inhalt 1            | Inhalt 2      |\n",
    "| Inhalt 3            | Inhalt 4.     |"
   ]
  },
  {
   "cell_type": "code",
   "execution_count": null,
   "metadata": {
    "collapsed": true
   },
   "outputs": [],
   "source": []
  }
 ],
 "metadata": {
  "kernelspec": {
   "display_name": "Python 3 (ipykernel)",
   "language": "python",
   "name": "python3"
  },
  "language_info": {
   "codemirror_mode": {
    "name": "ipython",
    "version": 3
   },
   "file_extension": ".py",
   "mimetype": "text/x-python",
   "name": "python",
   "nbconvert_exporter": "python",
   "pygments_lexer": "ipython3",
   "version": "3.9.13"
  }
 },
 "nbformat": 4,
 "nbformat_minor": 2
}
