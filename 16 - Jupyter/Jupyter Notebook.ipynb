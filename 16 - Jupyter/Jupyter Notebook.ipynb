{
 "cells": [
  {
   "cell_type": "markdown",
   "metadata": {},
   "source": [
    "## Jupyter Notebooks\n",
    "\n",
    "In dieser Lektion lernst du:\n",
    "\n",
    "- Weitere Funktionalitäten dieser Jupyter Notebooks kennen.\n",
    "- command mode / change cells to ...\n",
    "- shortcuts\n",
    " - dopel 'd' für schnelles löschen\n",
    " - 'b'/ 'a' für neue Zelle\n",
    " - zelle ausführen mit strg + enter\n",
    "- checkpoints gibt es auch (File -> save checkpoint)"
   ]
  },
  {
   "cell_type": "code",
   "execution_count": 1,
   "metadata": {},
   "outputs": [
    {
     "name": "stdout",
     "output_type": "stream",
     "text": [
      "Hallo\n"
     ]
    }
   ],
   "source": [
    "print(\"Hallo\")"
   ]
  },
  {
   "cell_type": "code",
   "execution_count": 4,
   "metadata": {},
   "outputs": [
    {
     "name": "stdout",
     "output_type": "stream",
     "text": [
      "neue Zeile mit 'b' (below) oder 'a' (above)\n"
     ]
    }
   ],
   "source": [
    "print(\"neue Zeile mit 'b' (below) oder 'a' (above)\")"
   ]
  }
 ],
 "metadata": {
  "kernelspec": {
   "display_name": "Python 3 (ipykernel)",
   "language": "python",
   "name": "python3"
  },
  "language_info": {
   "codemirror_mode": {
    "name": "ipython",
    "version": 3
   },
   "file_extension": ".py",
   "mimetype": "text/x-python",
   "name": "python",
   "nbconvert_exporter": "python",
   "pygments_lexer": "ipython3",
   "version": "3.9.13"
  }
 },
 "nbformat": 4,
 "nbformat_minor": 2
}
