{
 "cells": [
  {
   "cell_type": "markdown",
   "metadata": {},
   "source": [
    "## Aufgabe: PriorityQueue\n",
    "\n",
    "\n",
    "Ermittle den 5.-häufigsten Vornamen, der in den USA vergeben wurde! Lies dazu die ../data/names.csv - Datei ein. Verwende dazu zuerst ein Dictionary, mit dem du die Häufigkeit der Vornamen zählst und anschließend eine PriorityQueue, um die Top 5 Vornamen zu ermitteln."
   ]
  },
  {
   "cell_type": "code",
   "execution_count": 1,
   "metadata": {},
   "outputs": [],
   "source": [
    "import csv\n",
    "import queue"
   ]
  },
  {
   "cell_type": "code",
   "execution_count": 24,
   "metadata": {},
   "outputs": [
    {
     "name": "stdout",
     "output_type": "stream",
     "text": [
      "(-3839236, 'William')\n"
     ]
    }
   ],
   "source": [
    "names = {}\n",
    "with open(\"../data/names.csv\", newline='', encoding='utf-8') as csvfile:\n",
    "    namereader = csv.reader(csvfile, delimiter=\",\", quotechar=\"'\")\n",
    "    next(csvfile)\n",
    "    for row in namereader:\n",
    "        if row[1] in names:\n",
    "            names[row[1]] = names[row[1]]+int(row[5])\n",
    "        else:\n",
    "            names[row[1]] = int(row[5])\n",
    "            \n",
    "\n",
    "sortednames = queue.PriorityQueue()\n",
    "for name, amount in names.items():\n",
    "    sortednames.put((-amount, name))\n",
    "\n",
    "counter = 0\n",
    "while counter < 4:\n",
    "    sortednames.get()\n",
    "    counter = counter + 1\n",
    "print(sortednames.get())\n",
    "    "
   ]
  },
  {
   "cell_type": "code",
   "execution_count": 23,
   "metadata": {},
   "outputs": [
    {
     "name": "stdout",
     "output_type": "stream",
     "text": [
      "(-4957166, 4957166)\n"
     ]
    }
   ],
   "source": []
  }
 ],
 "metadata": {
  "kernelspec": {
   "display_name": "Python 3 (ipykernel)",
   "language": "python",
   "name": "python3"
  },
  "language_info": {
   "codemirror_mode": {
    "name": "ipython",
    "version": 3
   },
   "file_extension": ".py",
   "mimetype": "text/x-python",
   "name": "python",
   "nbconvert_exporter": "python",
   "pygments_lexer": "ipython3",
   "version": "3.9.13"
  }
 },
 "nbformat": 4,
 "nbformat_minor": 2
}
