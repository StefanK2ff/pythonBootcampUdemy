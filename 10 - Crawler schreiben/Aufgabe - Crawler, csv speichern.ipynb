{
 "cells": [
  {
   "cell_type": "markdown",
   "metadata": {},
   "source": [
    "## Aufgabe: Crawler\n",
    "\n",
    "\n",
    "Jetzt haben wir den ArticleFetcher schon so angepasst, dass er die Daten aus allen Seiten extrahiert. Aber eigentlich wäre es cool, wenn er die Daten direkt als .csv-Datei speichern würde ;)\n",
    "\n",
    "Aufgabe:\n",
    "\n",
    "- Schaue dir das Modul csv an, und zwar die writer-Funktion: https://docs.python.org/3/library/csv.html#csv.writer.\n",
    "- Passe dann den Ausgabe-Code so an, dass statt der Ausgabe hier im Notebook eine .csv-Datei gespeichert wird. Verwende als Spaltentrenner (Separator) ein Semikolon und als \"quotechar\" die doppelten Anführungszeichen ('\"'); dann können wir die Datei später noch mit Excel öffnen. :-)"
   ]
  },
  {
   "cell_type": "code",
   "execution_count": 8,
   "metadata": {},
   "outputs": [],
   "source": [
    "import requests\n",
    "from bs4 import BeautifulSoup\n",
    "from urllib.parse import urljoin\n",
    "import time\n",
    "import csv"
   ]
  },
  {
   "cell_type": "code",
   "execution_count": 32,
   "metadata": {},
   "outputs": [],
   "source": [
    "class CrawledArticle():\n",
    "    def __init__(self, title, emoji, content, image):\n",
    "        self.title = title\n",
    "        self.emoji = emoji\n",
    "        self.content = content\n",
    "        self.image = image\n",
    "        \n",
    "class ArticleFetcher():\n",
    "    def fetch(self):\n",
    "        url = \"http://python.beispiel.programmierenlernen.io/index.php?page=6\"\n",
    "        articles = []\n",
    "        \n",
    "        while url != \"\":\n",
    "            print(url)\n",
    "            time.sleep(1)\n",
    "            r = requests.get(url)\n",
    "            doc = BeautifulSoup(r.text, \"html.parser\")\n",
    "            \n",
    "            for card in doc.select(\".card\"):\n",
    "                emoji = card.select_one(\".emoji\").text\n",
    "                content = card.select_one(\".card-text\").text\n",
    "                title = card.select(\".card-title span\")[1].text\n",
    "                image = urljoin(url, card.select_one(\"img\").attrs[\"src\"])\n",
    "\n",
    "                crawled = CrawledArticle(title, emoji, content, image)\n",
    "                articles.append(crawled)\n",
    "\n",
    "            next_button = doc.select_one(\".navigation .btn\")\n",
    "            if next_button:\n",
    "                next_href = next_button.attrs[\"href\"]\n",
    "                next_href = urljoin(url, next_href)            \n",
    "                url = next_href\n",
    "            else:\n",
    "                url = \"\"\n",
    "        \n",
    "        with open('crawler_output2.csv', 'w', newline='', encoding='utf-8') as csvfile:\n",
    "            print(\"Opening file ....\")\n",
    "            writer = csv.writer(csvfile, delimiter=';', quotechar='\"', quoting=csv.QUOTE_MINIMAL)\n",
    "            for article in articles:\n",
    "                writer.writerow([article.title, article.content, article.image])\n",
    "            print(\"Closing ...\")\n"
   ]
  },
  {
   "cell_type": "code",
   "execution_count": 33,
   "metadata": {},
   "outputs": [
    {
     "name": "stdout",
     "output_type": "stream",
     "text": [
      "http://python.beispiel.programmierenlernen.io/index.php?page=6\n",
      "Opening file ....\n",
      "Closing ...\n"
     ]
    }
   ],
   "source": [
    "fetcher = ArticleFetcher()\n",
    "fetcher.fetch()"
   ]
  },
  {
   "cell_type": "markdown",
   "metadata": {},
   "source": [
    "## MY CRAWLER"
   ]
  },
  {
   "cell_type": "code",
   "execution_count": 49,
   "metadata": {},
   "outputs": [
    {
     "name": "stdout",
     "output_type": "stream",
     "text": [
      "Opening file ....\n",
      "Closing ...\n"
     ]
    }
   ],
   "source": [
    "class CrawledApprenticeship():\n",
    "    def __init__(self, profession, company, url, start, district, qualification, cident):\n",
    "        self.profession = profession\n",
    "        self.company = company\n",
    "        self.url = url\n",
    "        self.start = start\n",
    "        self.district = district\n",
    "        self.qualification = qualification\n",
    "        self.cident = cident\n",
    "        \n",
    "class ApprFetcher():\n",
    "    def fetch(self):\n",
    "        time.sleep(1)\n",
    "        link = \"https://www.lehrstelle-handwerk.de/ausbildung/lehrstellenboerse-praktikumsboerse/lehrstelle-suchen/list\"\n",
    "        rh = requests.get(link)\n",
    "        site = BeautifulSoup(rh.text, \"html.parser\")\n",
    "        apprenticeships = []\n",
    "        for table in site.find_all(\"tbody\"):\n",
    "            profession = table.select_one(\".lehrstellen\").text.strip()\n",
    "       \n",
    "            for tr in table.find_all(\"tr\"):\n",
    "\n",
    "                if tr.select_one(\".flush\") == None:\n",
    "                    continue\n",
    "                else:\n",
    "\n",
    "                    company = tr.select_one(\".flush\").text.strip()\n",
    "                    url = \"https://www.lehrstelle-handwerk.de\" + tr.select_one(\"a\", href=True)['href'].strip()\n",
    "                    start =  tr.select_one(\"a\").text.strip()\n",
    "                    cident = str(url)[slice(str(url).find(\"firma/\")+6,str(url).find(\"?\"))].strip()\n",
    "                    district = tr.select_one(\"td[data-label='Stadtteil']\").text.strip()\n",
    "                    qualification = tr.select_one(\"td[data-label='Abschluss']\").text.strip()\n",
    "                    \n",
    "                    apprenticeships.append(CrawledApprenticeship(profession, company, url, start, district, qualification, cident))\n",
    "\n",
    "                    \n",
    "        return apprenticeships\n",
    "    \n",
    "fetcher = ApprFetcher()\n",
    "\n",
    "#write CSV file\n",
    "\n",
    "with open('found_apprs.csv', 'w', newline='', encoding='utf-8') as csvfile:\n",
    "    print(\"Opening file ....\")\n",
    "    writer = csv.writer(csvfile, delimiter=';', quotechar='\"', quoting=csv.QUOTE_MINIMAL)\n",
    "    writer.writerow([\"profession\",\"company_ident\",\"company_name\",\"url\",\"start_date\",\"disctrict\",\"qualification\"])\n",
    "    for appr in fetcher.fetch():\n",
    "        writer.writerow([appr.profession, appr.cident, appr.company, appr.url, appr.start, appr.district, appr.qualification])\n",
    "    print(\"Closing ...\")\n"
   ]
  }
 ],
 "metadata": {
  "kernelspec": {
   "display_name": "Python 3 (ipykernel)",
   "language": "python",
   "name": "python3"
  },
  "language_info": {
   "codemirror_mode": {
    "name": "ipython",
    "version": 3
   },
   "file_extension": ".py",
   "mimetype": "text/x-python",
   "name": "python",
   "nbconvert_exporter": "python",
   "pygments_lexer": "ipython3",
   "version": "3.9.13"
  }
 },
 "nbformat": 4,
 "nbformat_minor": 2
}
