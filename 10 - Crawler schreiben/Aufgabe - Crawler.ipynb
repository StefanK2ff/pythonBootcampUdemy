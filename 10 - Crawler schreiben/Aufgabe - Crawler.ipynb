{
 "cells": [
  {
   "cell_type": "markdown",
   "metadata": {},
   "source": [
    "## Aufgabe: Crawler\n",
    "\n",
    "**Aufgabe:**\n",
    "\n",
    "- Passe den ArticleFetcher so an, dass er die Informationen aus allen Seiten extrahiert\n",
    "\n",
    "Hier nochmal die URL: http://python.beispiel.programmierenlernen.io/index.php\n",
    "\n",
    "**Tipps:**\n",
    "\n",
    "- Schau dir zuerst an, wie du den Button \"Zur nächsten Seite\" ansteuern kannst.\n",
    "- Wie greifst du von Python aus auf das \"href\" - Attribut dieses Buttons zu?\n",
    "- (Optional): Probier ggf. zuerst, nur die Infos der ersten 2 Seiten zu holen. Kannst du darauf aufbauend das Programm verallgemeinern, so dass es alle Seiten einliest?\n",
    "- Du kannst dich daran orientieren, ob es einen \"Zur nächsten Seite\"-Button gibt, oder nicht. Wenn es diesen Button nicht mehr gibt, bist du auf der letzten Seite angelangt. Welcher Schleifentyp bietet sich hier an, wenn du die Schleife erst dann stoppen willst, wenn es den Button nicht mehr gibt?"
   ]
  },
  {
   "cell_type": "code",
   "execution_count": 2,
   "metadata": {},
   "outputs": [],
   "source": [
    "import requests\n",
    "from bs4 import BeautifulSoup\n",
    "from urllib.parse import urljoin\n",
    "import time"
   ]
  },
  {
   "cell_type": "code",
   "execution_count": 17,
   "metadata": {},
   "outputs": [],
   "source": [
    "class CrawledArticle():\n",
    "    def __init__(self, title, emoji, content, image):\n",
    "        self.title = title\n",
    "        self.emoji = emoji\n",
    "        self.content = content\n",
    "        self.image = image\n",
    "        \n",
    "class ArticleFetcher():\n",
    "    def fetch(self, url):\n",
    "        time.sleep(1) #wartet eine Sekunde\n",
    "        print(url)\n",
    "        r = requests.get(url)\n",
    "        doc = BeautifulSoup(r.text, \"html.parser\")\n",
    "        \n",
    "        articles = []\n",
    "        for card in doc.select(\".card\"):\n",
    "            emoji = card.select_one(\".emoji\").text\n",
    "            content = card.select_one(\".card-text\").text\n",
    "            title = card.select(\".card-title span\")[1].text\n",
    "            image = urljoin(url, card.select_one(\"img\").attrs[\"src\"])\n",
    "\n",
    "            crawled = CrawledArticle(title, emoji, content, image)\n",
    "            articles.append(crawled)\n",
    "            \n",
    "        try:\n",
    "            nexturl = doc.select_one(\".btn-primary\", href=True)['href']\n",
    "            return articles, urljoin(url[slice(0,url.find(\"?\"))], nexturl)\n",
    "        except:\n",
    "            return articles, None"
   ]
  },
  {
   "cell_type": "code",
   "execution_count": 27,
   "metadata": {},
   "outputs": [
    {
     "name": "stdout",
     "output_type": "stream",
     "text": [
      "http://python.beispiel.programmierenlernen.io/\n",
      "http://python.beispiel.programmierenlernen.io/index.php?page=2\n",
      "[<__main__.CrawledArticle object at 0x0000024D127C5EB0>, <__main__.CrawledArticle object at 0x0000024D127C5490>, <__main__.CrawledArticle object at 0x0000024D127C5E50>, <__main__.CrawledArticle object at 0x0000024D127C5CD0>, <__main__.CrawledArticle object at 0x0000024D127C5D30>, <__main__.CrawledArticle object at 0x0000024D127C5D60>, <__main__.CrawledArticle object at 0x0000024D127C5CA0>]\n",
      "http://python.beispiel.programmierenlernen.io/index.php?page=3\n",
      "[<__main__.CrawledArticle object at 0x0000024D12823DF0>, <__main__.CrawledArticle object at 0x0000024D12823E80>, <__main__.CrawledArticle object at 0x0000024D12823F40>, <__main__.CrawledArticle object at 0x0000024D12823F10>, <__main__.CrawledArticle object at 0x0000024D12823DC0>, <__main__.CrawledArticle object at 0x0000024D12823F70>, <__main__.CrawledArticle object at 0x0000024D128237C0>]\n",
      "http://python.beispiel.programmierenlernen.io/index.php?page=4\n",
      "[<__main__.CrawledArticle object at 0x0000024D15A75610>, <__main__.CrawledArticle object at 0x0000024D15A7E220>, <__main__.CrawledArticle object at 0x0000024D15A7E310>, <__main__.CrawledArticle object at 0x0000024D15A7E190>, <__main__.CrawledArticle object at 0x0000024D15A7ED00>, <__main__.CrawledArticle object at 0x0000024D15A7E370>, <__main__.CrawledArticle object at 0x0000024D15A7E040>]\n",
      "http://python.beispiel.programmierenlernen.io/index.php?page=5\n",
      "[<__main__.CrawledArticle object at 0x0000024D15B3A0A0>, <__main__.CrawledArticle object at 0x0000024D15B3A100>, <__main__.CrawledArticle object at 0x0000024D15B3A3D0>, <__main__.CrawledArticle object at 0x0000024D15B3A1F0>, <__main__.CrawledArticle object at 0x0000024D15B3A190>, <__main__.CrawledArticle object at 0x0000024D15B3A070>, <__main__.CrawledArticle object at 0x0000024D15B3A370>]\n",
      "http://python.beispiel.programmierenlernen.io/index.php?page=6\n",
      "[<__main__.CrawledArticle object at 0x0000024D1280C0A0>, <__main__.CrawledArticle object at 0x0000024D1280C100>, <__main__.CrawledArticle object at 0x0000024D1280C160>, <__main__.CrawledArticle object at 0x0000024D1280C1C0>, <__main__.CrawledArticle object at 0x0000024D1280C220>, <__main__.CrawledArticle object at 0x0000024D1280C280>]\n",
      "durchlauf beendet\n",
      "Realigned zerotolerance function\n",
      "Quality-focused user-facing help-desk\n",
      "Proactive user-facing opensystem\n",
      "Decentralized holistic moderator\n",
      "Mandatory tangible application\n",
      "Digitized dedicated budgetarymanagement\n",
      "Organized well-modulated concept\n",
      "Balanced optimal openarchitecture\n",
      "Universal explicit throughput\n",
      "Polarised mobile algorithm\n",
      "Mandatory homogeneous infrastructure\n",
      "Business-focused interactive implementation\n",
      "Polarised exuding archive\n",
      "Extended homogeneous firmware\n",
      "Secured transitional capability\n",
      "Expanded clear-thinking forecast\n",
      "Grass-roots assymetric interface\n",
      "Inverse static service-desk\n",
      "Optional object-oriented toolset\n",
      "Optional stable service-desk\n",
      "Virtual background systemengine\n",
      "Balanced human-resource extranet\n",
      "Expanded bi-directional encryption\n",
      "Sharable client-driven groupware\n",
      "Monitored even-keeled initiative\n",
      "Inverse maximized benchmark\n",
      "Front-line full-range help-desk\n",
      "Integrated impactful matrices\n",
      "Cross-platform composite data-warehouse\n",
      "Grass-roots systemic support\n",
      "Secured 3rdgeneration intranet\n",
      "Persistent composite firmware\n",
      "Upgradable multimedia benchmark\n",
      "Organized fresh-thinking utilisation\n"
     ]
    }
   ],
   "source": [
    "url = \"http://python.beispiel.programmierenlernen.io/\"\n",
    "fetcher = ArticleFetcher()\n",
    "result = fetcher.fetch(url)\n",
    "all_articles = []\n",
    "while result[1] != None:\n",
    "    result = fetcher.fetch(result[1])\n",
    "    print(result[0])\n",
    "    all_articles = [*all_articles, *result[0]]\n",
    "else:\n",
    "    print(\"durchlauf beendet\")\n",
    "    #print(all_articles)\n",
    "    for article in all_articles:\n",
    "        print(article.title)\n",
    "\n",
    "\n"
   ]
  },
  {
   "cell_type": "code",
   "execution_count": null,
   "metadata": {
    "collapsed": true
   },
   "outputs": [],
   "source": []
  }
 ],
 "metadata": {
  "kernelspec": {
   "display_name": "Python 3 (ipykernel)",
   "language": "python",
   "name": "python3"
  },
  "language_info": {
   "codemirror_mode": {
    "name": "ipython",
    "version": 3
   },
   "file_extension": ".py",
   "mimetype": "text/x-python",
   "name": "python",
   "nbconvert_exporter": "python",
   "pygments_lexer": "ipython3",
   "version": "3.9.13"
  }
 },
 "nbformat": 4,
 "nbformat_minor": 2
}
