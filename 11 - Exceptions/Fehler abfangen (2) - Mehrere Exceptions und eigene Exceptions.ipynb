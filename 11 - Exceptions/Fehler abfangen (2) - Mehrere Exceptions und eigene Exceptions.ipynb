{
 "cells": [
  {
   "cell_type": "markdown",
   "metadata": {
    "collapsed": true
   },
   "source": [
    "## Exceptions in Python\n",
    "\n",
    "In dieser Lektion lernst du, wie du:\n",
    "\n",
    "- mehrere Exceptions abfangen kannst\n",
    "- eigene Exceptions erstellen kannst."
   ]
  },
  {
   "cell_type": "code",
   "execution_count": 3,
   "metadata": {},
   "outputs": [
    {
     "name": "stdout",
     "output_type": "stream",
     "text": [
      "FileNotFoundError ist aufgetreten\n"
     ]
    }
   ],
   "source": [
    "try:\n",
    "    with open(\"datei.xyz\", \"r\") as file:\n",
    "        print(file)\n",
    "    print(5 / 0)\n",
    "except ZeroDivisionError:\n",
    "    print(\"Du darfst nicht durch 0 teilen\")\n",
    "except FileNotFoundError:\n",
    "    print(\"FileNotFoundError ist aufgetreten\")"
   ]
  },
  {
   "cell_type": "code",
   "execution_count": 4,
   "metadata": {},
   "outputs": [
    {
     "name": "stdout",
     "output_type": "stream",
     "text": [
      "Du darfst nicht durch 0 teilen\n"
     ]
    }
   ],
   "source": [
    "def do_something():\n",
    "    print(5 / 0)\n",
    "    \n",
    "try:\n",
    "    do_something()\n",
    "except ZeroDivisionError:\n",
    "    print(\"Du darfst nicht durch 0 teilen\")"
   ]
  },
  {
   "cell_type": "code",
   "execution_count": 12,
   "metadata": {},
   "outputs": [
    {
     "name": "stdout",
     "output_type": "stream",
     "text": [
      "email does not contain an @\n"
     ]
    }
   ],
   "source": [
    "class InvalidEmailError(Exception): #erweitert die exception classe von python\n",
    "    #pass #muss nichts weiter enthalten, es geht um den Namen\n",
    "    message = \"email does not contain an @\"\n",
    "\n",
    "def send_mail(email, subject, content):\n",
    "    if not \"@\" in email:\n",
    "        raise InvalidEmailError() \n",
    "try:     \n",
    "    send_mail(\"hallo\", \"Betreff\", \"Inhalt\")\n",
    "except InvalidEmailError:\n",
    "    print(InvalidEmailError.message)"
   ]
  },
  {
   "cell_type": "code",
   "execution_count": null,
   "metadata": {
    "collapsed": true
   },
   "outputs": [],
   "source": []
  }
 ],
 "metadata": {
  "kernelspec": {
   "display_name": "Python 3 (ipykernel)",
   "language": "python",
   "name": "python3"
  },
  "language_info": {
   "codemirror_mode": {
    "name": "ipython",
    "version": 3
   },
   "file_extension": ".py",
   "mimetype": "text/x-python",
   "name": "python",
   "nbconvert_exporter": "python",
   "pygments_lexer": "ipython3",
   "version": "3.9.13"
  }
 },
 "nbformat": 4,
 "nbformat_minor": 2
}
