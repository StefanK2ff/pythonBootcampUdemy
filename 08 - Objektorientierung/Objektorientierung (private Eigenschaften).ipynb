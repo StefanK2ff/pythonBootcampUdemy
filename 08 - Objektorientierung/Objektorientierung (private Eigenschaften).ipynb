{
 "cells": [
  {
   "cell_type": "markdown",
   "metadata": {},
   "source": [
    "## Objektorientierung: Private Eigenschaften und Methoden\n",
    "\n",
    "In dieser Lektion lernst du:\n",
    "\n",
    "- Was private Eigenschaften sind...\n",
    "- Was private Methoden sind...\n",
    "- ... und wo / wozu du diese einsetzen solltest"
   ]
  },
  {
   "cell_type": "code",
   "execution_count": 35,
   "metadata": {},
   "outputs": [],
   "source": [
    "class Student():\n",
    "\n",
    "    def __init__(self, firstname, lastname):\n",
    "        self.__firstname = firstname\n",
    "        self.__lastname = lastname\n",
    "        self.__term = 1\n",
    "        self.__changelog = []\n",
    "                \n",
    "    def increase_term(self):\n",
    "        if self.__term >= 9:\n",
    "            return(\"Student bereits im 9. Semester\")\n",
    "        self.__term = self.__term + 1\n",
    "        return(\"Semester auf \" + str(self.__term) + \" erhöht\")\n",
    "        \n",
    "    def get_term(self):\n",
    "        return self.__term\n",
    "    \n",
    "    def show_full_name(self):\n",
    "        print(self.__firstname + \" \" + self.__lastname + \" (Semester: \" + str(self.__term) + \")\")\n",
    "        \n",
    "    def change_lastname(self, newname):\n",
    "        import calendar\n",
    "        import time\n",
    "        current_GMT = time.gmtime()\n",
    "        time_stamp = calendar.timegm(current_GMT)\n",
    "        oldname = self.__lastname\n",
    "        self.__lastname = newname\n",
    "        self.__changelog.append(str(calendar.timegm(current_GMT))+\" - Name gändert von \" + oldname + \" zu \" + self.__lastname)\n",
    "        \n",
    "    def show_changelog(self):\n",
    "        for elem in self.__changelog:\n",
    "            print(elem)\n",
    "        \n",
    "        \n",
    "\n",
    "\n"
   ]
  },
  {
   "cell_type": "code",
   "execution_count": 36,
   "metadata": {},
   "outputs": [
    {
     "name": "stdout",
     "output_type": "stream",
     "text": [
      "Semester auf 2 erhöht\n",
      "Erik Mustermann (Semester: 2)\n",
      "Erik Kinkerlitz (Semester: 2)\n",
      "1678198416 - Name gändert von Mustermann zu Kinkerlitz\n"
     ]
    }
   ],
   "source": [
    "person = Student(\"Erik\", \"Mustermann\")\n",
    "\n",
    "\n",
    "print(person.increase_term())\n",
    "person.show_full_name()\n",
    "\n",
    "person.change_lastname(\"Kinkerlitz\")\n",
    "person.show_full_name()\n",
    "person.show_changelog()"
   ]
  },
  {
   "cell_type": "code",
   "execution_count": 37,
   "metadata": {},
   "outputs": [],
   "source": [
    "person.change_lastname(\"Badebibu\")"
   ]
  },
  {
   "cell_type": "code",
   "execution_count": 38,
   "metadata": {},
   "outputs": [
    {
     "name": "stdout",
     "output_type": "stream",
     "text": [
      "1678198416 - Name gändert von Mustermann zu Kinkerlitz\n",
      "1678198445 - Name gändert von Kinkerlitz zu Badebibu\n"
     ]
    }
   ],
   "source": [
    "person.show_changelog()"
   ]
  },
  {
   "cell_type": "markdown",
   "metadata": {
    "collapsed": true
   },
   "source": [
    "Da die Variable __term mit 2 Unterstrichen beginnt, ist diese Eigenschaft **privat**, d. h. wir können von außen nicht auf sie zugreifen:"
   ]
  },
  {
   "cell_type": "code",
   "execution_count": 39,
   "metadata": {},
   "outputs": [
    {
     "ename": "AttributeError",
     "evalue": "'Student' object has no attribute '__term'",
     "output_type": "error",
     "traceback": [
      "\u001b[1;31m---------------------------------------------------------------------------\u001b[0m",
      "\u001b[1;31mAttributeError\u001b[0m                            Traceback (most recent call last)",
      "\u001b[1;32m~\\AppData\\Local\\Temp\\ipykernel_29416\\1646335615.py\u001b[0m in \u001b[0;36m<module>\u001b[1;34m\u001b[0m\n\u001b[1;32m----> 1\u001b[1;33m \u001b[0mprint\u001b[0m\u001b[1;33m(\u001b[0m\u001b[0mperson\u001b[0m\u001b[1;33m.\u001b[0m\u001b[0m__term\u001b[0m\u001b[1;33m)\u001b[0m\u001b[1;33m\u001b[0m\u001b[1;33m\u001b[0m\u001b[0m\n\u001b[0m",
      "\u001b[1;31mAttributeError\u001b[0m: 'Student' object has no attribute '__term'"
     ]
    }
   ],
   "source": [
    "print(person.__term)"
   ]
  },
  {
   "cell_type": "code",
   "execution_count": null,
   "metadata": {
    "collapsed": true
   },
   "outputs": [],
   "source": []
  }
 ],
 "metadata": {
  "kernelspec": {
   "display_name": "Python 3 (ipykernel)",
   "language": "python",
   "name": "python3"
  },
  "language_info": {
   "codemirror_mode": {
    "name": "ipython",
    "version": 3
   },
   "file_extension": ".py",
   "mimetype": "text/x-python",
   "name": "python",
   "nbconvert_exporter": "python",
   "pygments_lexer": "ipython3",
   "version": "3.9.13"
  }
 },
 "nbformat": 4,
 "nbformat_minor": 2
}
