{
 "cells": [
  {
   "cell_type": "markdown",
   "metadata": {},
   "source": [
    "## Aufgabe: Vererbung\n",
    "\n",
    "#### Aufgabe 1:\n",
    "\n",
    "Vervollständige die Klasse \"FileReader\" so, dass bei Aufruf der lines() - Methode die Datei Zeile für Zeile eingelesen wird. Die lines() - Methode soll dann eine Liste der Zeilen in der Datei zurückgeben.\n",
    "\n",
    "#### Aufgabe 2:\n",
    "\n",
    "Erstelle die Klasse \"CsvReader\", sodass der \"FileReader\" erweitert wird. Bei Aufruf der lines() soll die Datei als .csv-Datei eingelesen werden, sprich es soll eine mehrdimensionale Liste zurückgegeben werden. \n",
    "\n",
    "**Wichtig:** Überlass' das Einlesen der Datei dem \"FileReader\", und erweitere die lines() - Methode im Csv-Reader um die Funktionalität, die benötigt wird, damit die mehrdimensionale Liste zurückgegeben wird!"
   ]
  },
  {
   "cell_type": "code",
   "execution_count": 10,
   "metadata": {},
   "outputs": [],
   "source": [
    "class FileReader():\n",
    "    def __init__(self, filedir):\n",
    "        self.filedir = filedir\n",
    "    \n",
    "    def lines(self):\n",
    "        with open(self.filedir, \"r\") as file:\n",
    "            linelist = []\n",
    "            for line in file:\n",
    "                linelist.append(line.strip()) #.split(\",\")\n",
    "            return linelist\n"
   ]
  },
  {
   "cell_type": "code",
   "execution_count": 11,
   "metadata": {},
   "outputs": [
    {
     "name": "stdout",
     "output_type": "stream",
     "text": [
      "['Nachname,Vorname', 'Mustermann,Max', 'Mueller,Monika']\n"
     ]
    }
   ],
   "source": [
    "f = FileReader(\"./datei.csv\")\n",
    "print(f.lines())\n",
    "\n",
    "# Hier soll ausgegeben werden:\n",
    "# [\"Nachname,Vorname\", \"Mustermann,Max\", \"Mueller,Monika\"]"
   ]
  },
  {
   "cell_type": "code",
   "execution_count": 39,
   "metadata": {},
   "outputs": [],
   "source": [
    "class CsvReader(FileReader):\n",
    "    def __init__(self, filedir, separator):\n",
    "        super().__init__(filedir)\n",
    "        self.separator = separator\n",
    "        \n",
    "    def lines(self):\n",
    "        #linelistlist= []\n",
    "        #for elem in super().lines():\n",
    "        #    linelistlist.append(elem.split(self.separator))\n",
    "        #return linelistlist\n",
    "        return [elem.split(self.separator) for elem in super().lines()]"
   ]
  },
  {
   "cell_type": "code",
   "execution_count": 40,
   "metadata": {},
   "outputs": [
    {
     "name": "stdout",
     "output_type": "stream",
     "text": [
      "[['Nachname', 'Vorname'], ['Mustermann', 'Max'], ['Mueller', 'Monika']]\n"
     ]
    }
   ],
   "source": [
    "f = CsvReader(\"./datei.csv\", \",\")\n",
    "print(f.lines())\n",
    "\n",
    "# Hier soll ausgegeben werden:\n",
    "# [[\"Nachname\", \"Vorname\"], [\"Mustermann\", \"Max\"], [\"Mueller\", \"Monika\"]]"
   ]
  },
  {
   "cell_type": "code",
   "execution_count": null,
   "metadata": {},
   "outputs": [],
   "source": []
  }
 ],
 "metadata": {
  "kernelspec": {
   "display_name": "Python 3 (ipykernel)",
   "language": "python",
   "name": "python3"
  },
  "language_info": {
   "codemirror_mode": {
    "name": "ipython",
    "version": 3
   },
   "file_extension": ".py",
   "mimetype": "text/x-python",
   "name": "python",
   "nbconvert_exporter": "python",
   "pygments_lexer": "ipython3",
   "version": "3.9.13"
  }
 },
 "nbformat": 4,
 "nbformat_minor": 2
}
