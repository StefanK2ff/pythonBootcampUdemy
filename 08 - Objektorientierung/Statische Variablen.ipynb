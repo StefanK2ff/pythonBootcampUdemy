{
 "cells": [
  {
   "cell_type": "markdown",
   "metadata": {},
   "source": [
    "# Statische Variablen\n",
    "Wir können Variablen auch statt an Instanzen an Klassen binden. Sie heißen statisch, weil sie nicht mehr an einer einzelnen Instanz hängen: "
   ]
  },
  {
   "cell_type": "code",
   "execution_count": 22,
   "metadata": {},
   "outputs": [
    {
     "name": "stdout",
     "output_type": "stream",
     "text": [
      "expensive\n"
     ]
    }
   ],
   "source": [
    "class Car:\n",
    "    # das self von früher fehlt hier\n",
    "    price = \"expensive\"\n",
    "\n",
    "c = Car\n",
    "print(c.price)"
   ]
  },
  {
   "cell_type": "markdown",
   "metadata": {},
   "source": [
    "Auf die Variable price haben wir auch über die Klasse car Zugriff:"
   ]
  },
  {
   "cell_type": "code",
   "execution_count": 23,
   "metadata": {},
   "outputs": [
    {
     "name": "stdout",
     "output_type": "stream",
     "text": [
      "expensive\n"
     ]
    }
   ],
   "source": [
    "print(Car.price)"
   ]
  },
  {
   "cell_type": "code",
   "execution_count": 20,
   "metadata": {
    "collapsed": true
   },
   "outputs": [],
   "source": [
    "Car.price = \"cheap\""
   ]
  },
  {
   "cell_type": "code",
   "execution_count": 21,
   "metadata": {},
   "outputs": [
    {
     "name": "stdout",
     "output_type": "stream",
     "text": [
      "cheap\n"
     ]
    }
   ],
   "source": [
    "print(c.price)"
   ]
  },
  {
   "cell_type": "markdown",
   "metadata": {},
   "source": [
    "Wir haben also die Eigenschaft bei allen Instanzen geändert!"
   ]
  },
  {
   "cell_type": "code",
   "execution_count": 12,
   "metadata": {},
   "outputs": [
    {
     "name": "stdout",
     "output_type": "stream",
     "text": [
      "cheap\n"
     ]
    }
   ],
   "source": [
    "bobbycar = Car\n",
    "print(bobbycar.price)"
   ]
  },
  {
   "cell_type": "markdown",
   "metadata": {},
   "source": [
    "Wir haben also nachträglich die Eigenschaft price der Klasse geändert. Davon ist im Allgemeinen abzuraten!\n",
    "\n",
    "Wie zuvor sollten wir daher Instanzvariablen definieren, die an eine Instanz gebunden sind und unabhängig von der Klasse verändert werden können:"
   ]
  },
  {
   "cell_type": "code",
   "execution_count": 13,
   "metadata": {},
   "outputs": [
    {
     "name": "stdout",
     "output_type": "stream",
     "text": [
      "Price Car A: expensive Color: red\n",
      "Price Car B: expensive Color: red\n"
     ]
    }
   ],
   "source": [
    "class CarI:\n",
    "    color = \"red\"\n",
    "    def __init__(self):\n",
    "        self.price = \"expensive\"\n",
    "        \n",
    "        \n",
    "carA = CarI()\n",
    "carB = CarI()\n",
    "print(\"Price Car A: \" + str(carA.price) + \" Color: \" + carA.color)\n",
    "print(\"Price Car B: \" + str(carB.price) + \" Color: \" + carB.color)"
   ]
  },
  {
   "cell_type": "code",
   "execution_count": 18,
   "metadata": {},
   "outputs": [
    {
     "name": "stdout",
     "output_type": "stream",
     "text": [
      "Price Car A: expensive Color: blue\n",
      "Price Car B: 5 Color: blue\n",
      "Price Car A: expensive Color: blue\n",
      "Price Car B: 5 Color: blue\n"
     ]
    }
   ],
   "source": [
    "carB.price = 5\n",
    "CarI.color = \"blue\"\n",
    "\n",
    "print(\"Price Car A: \" + str(carA.price) + \" Color: \" + carA.color)\n",
    "print(\"Price Car B: \" + str(carB.price) + \" Color: \" + carB.color)\n",
    "\n",
    "CarI.price = 9\n",
    "\n",
    "print(\"Price Car A: \" + str(carA.price) + \" Color: \" + carA.color)\n",
    "print(\"Price Car B: \" + str(carB.price) + \" Color: \" + carB.color)"
   ]
  },
  {
   "cell_type": "code",
   "execution_count": 19,
   "metadata": {},
   "outputs": [
    {
     "name": "stdout",
     "output_type": "stream",
     "text": [
      "Price Car C: expensive Color: blue\n"
     ]
    }
   ],
   "source": [
    "carC = CarI()\n",
    "print(\"Price Car C: \" + str(carC.price) + \" Color: \" + carC.color)"
   ]
  },
  {
   "cell_type": "code",
   "execution_count": null,
   "metadata": {},
   "outputs": [],
   "source": []
  }
 ],
 "metadata": {
  "kernelspec": {
   "display_name": "Python 3 (ipykernel)",
   "language": "python",
   "name": "python3"
  },
  "language_info": {
   "codemirror_mode": {
    "name": "ipython",
    "version": 3
   },
   "file_extension": ".py",
   "mimetype": "text/x-python",
   "name": "python",
   "nbconvert_exporter": "python",
   "pygments_lexer": "ipython3",
   "version": "3.9.13"
  }
 },
 "nbformat": 4,
 "nbformat_minor": 2
}
