{
 "cells": [
  {
   "cell_type": "markdown",
   "metadata": {},
   "source": [
    "## In Python gibt es ein paar besondere Methoden, die unsere Klasse implementieren kann...\n",
    "\n",
    "Damit kannst du dafür sorgen, dass:\n",
    "\n",
    "- deine Klasse direkt ausgegeben werden kann,\n",
    "- du len(variable) berechnen kannst."
   ]
  },
  {
   "cell_type": "markdown",
   "metadata": {},
   "source": [
    "## Die str-Funktion"
   ]
  },
  {
   "cell_type": "code",
   "execution_count": 5,
   "metadata": {},
   "outputs": [
    {
     "name": "stdout",
     "output_type": "stream",
     "text": [
      "PhoneBook({'Mustermann': '+4912345678', 'Müller': '+49123456789'})\n"
     ]
    }
   ],
   "source": [
    "class PhoneBook():\n",
    "    def __init__(self):\n",
    "        self.__entries = {}\n",
    "        \n",
    "    def add(self, name, phone_number):\n",
    "        self.__entries[name] = phone_number\n",
    "        \n",
    "    def get(self, name):\n",
    "        if name in self.__entries:\n",
    "            return self.__entries[name]\n",
    "        else:\n",
    "            return None\n",
    "    \n",
    "    def __str__(self):\n",
    "        return \"PhoneBook(\" + str(self.__entries) + \")\"\n",
    "    \n",
    "book = PhoneBook()\n",
    "book.add(\"Mustermann\", \"+4912345678\")\n",
    "book.add(\"Müller\", \"+49123456789\")\n",
    "\n",
    "print(book)"
   ]
  },
  {
   "cell_type": "markdown",
   "metadata": {},
   "source": [
    "## Die repr-Methode"
   ]
  },
  {
   "cell_type": "code",
   "execution_count": 4,
   "metadata": {},
   "outputs": [
    {
     "name": "stdout",
     "output_type": "stream",
     "text": [
      "PhoneBook({'Mustermann': '+4912345678', 'Müller': '+49123456789'}) METHODS: add(self, name, phone_number), get(self, name)\n"
     ]
    },
    {
     "data": {
      "text/plain": [
       "PhoneBook({'Mustermann': '+4912345678', 'Müller': '+49123456789'}) METHODS: add(self, name, phone_number), get(self, name)"
      ]
     },
     "execution_count": 4,
     "metadata": {},
     "output_type": "execute_result"
    }
   ],
   "source": [
    "class PhoneBook():\n",
    "    def __init__(self):\n",
    "        self.__entries = {}\n",
    "        \n",
    "    def add(self, name, phone_number):\n",
    "        self.__entries[name] = phone_number\n",
    "        \n",
    "    def get(self, name):\n",
    "        if name in self.__entries:\n",
    "            return self.__entries[name]\n",
    "        else:\n",
    "            return None\n",
    "    \n",
    "    def __str__(self):\n",
    "        return \"PhoneBook(\" + str(self.__entries) + \") METHODS: add(self, name, phone_number), get(self, name)\"\n",
    "    \n",
    "    def __repr__(self):\n",
    "        return self.__str__()\n",
    "\n",
    "        \n",
    "book = PhoneBook()\n",
    "book.add(\"Mustermann\", \"+4912345678\")\n",
    "book.add(\"Müller\", \"+49123456789\")\n",
    "\n",
    "print(book)\n",
    "book"
   ]
  },
  {
   "cell_type": "markdown",
   "metadata": {},
   "source": [
    "## Die len-Methode"
   ]
  },
  {
   "cell_type": "code",
   "execution_count": 13,
   "metadata": {},
   "outputs": [
    {
     "name": "stdout",
     "output_type": "stream",
     "text": [
      "2\n"
     ]
    }
   ],
   "source": [
    "class PhoneBook():\n",
    "    def __init__(self):\n",
    "        self.__entries = {}\n",
    "        \n",
    "    def add(self, name, phone_number):\n",
    "        self.__entries[name] = phone_number\n",
    "        \n",
    "    def get(self, name):\n",
    "        if name in self.__entries:\n",
    "            return self.__entries[name]\n",
    "        else:\n",
    "            return None\n",
    "    \n",
    "    def __len__(self):\n",
    "        return len(self.__entries)\n",
    "\n",
    "        \n",
    "book = PhoneBook()\n",
    "book.add(\"Mustermann\", \"+4912345678\")\n",
    "book.add(\"Müller\", \"+49123456789\")\n",
    "\n",
    "print(len(book))"
   ]
  }
 ],
 "metadata": {
  "kernelspec": {
   "display_name": "Python 3 (ipykernel)",
   "language": "python",
   "name": "python3"
  },
  "language_info": {
   "codemirror_mode": {
    "name": "ipython",
    "version": 3
   },
   "file_extension": ".py",
   "mimetype": "text/x-python",
   "name": "python",
   "nbconvert_exporter": "python",
   "pygments_lexer": "ipython3",
   "version": "3.9.13"
  }
 },
 "nbformat": 4,
 "nbformat_minor": 2
}
