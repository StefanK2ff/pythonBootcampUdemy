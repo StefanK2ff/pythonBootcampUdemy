{
 "cells": [
  {
   "cell_type": "markdown",
   "metadata": {},
   "source": [
    "## Module und Ordner\n",
    "\n",
    "In Python hast du auch die Möglichkeit, Module mit Hilfe eines Ordners zu definieren. \n",
    "\n",
    "In dieser Lektion lernst du: \n",
    "\n",
    "- Wie du Module mit Hilfe eines Ordners definierst, und so dein Modul besser strukturieren kannst\n",
    "- Was es mit der \\_\\_init\\_\\_.py auf sich hat"
   ]
  },
  {
   "cell_type": "code",
   "execution_count": 6,
   "metadata": {},
   "outputs": [],
   "source": [
    "from hallom import datei1\n",
    "from hallom import datei2"
   ]
  },
  {
   "cell_type": "code",
   "execution_count": 7,
   "metadata": {},
   "outputs": [
    {
     "name": "stdout",
     "output_type": "stream",
     "text": [
      "datei.py - Funktion f()\n",
      "datei.py - Funktion h()\n"
     ]
    }
   ],
   "source": [
    "datei1.f()\n",
    "datei2.h()"
   ]
  },
  {
   "cell_type": "code",
   "execution_count": 1,
   "metadata": {},
   "outputs": [
    {
     "name": "stdout",
     "output_type": "stream",
     "text": [
      "datei.py - Funktion f()\n",
      "datei.py - Funktion h()\n"
     ]
    }
   ],
   "source": [
    "from hallom import *\n",
    "datei1.f()\n",
    "datei2.h()"
   ]
  },
  {
   "cell_type": "code",
   "execution_count": 3,
   "metadata": {},
   "outputs": [
    {
     "name": "stdout",
     "output_type": "stream",
     "text": [
      "datei.py - Funktion f()\n"
     ]
    }
   ],
   "source": [
    "import hallom\n",
    "hallom.datei1.f()"
   ]
  },
  {
   "cell_type": "code",
   "execution_count": null,
   "metadata": {
    "collapsed": true
   },
   "outputs": [],
   "source": []
  }
 ],
 "metadata": {
  "kernelspec": {
   "display_name": "Python 3 (ipykernel)",
   "language": "python",
   "name": "python3"
  },
  "language_info": {
   "codemirror_mode": {
    "name": "ipython",
    "version": 3
   },
   "file_extension": ".py",
   "mimetype": "text/x-python",
   "name": "python",
   "nbconvert_exporter": "python",
   "pygments_lexer": "ipython3",
   "version": "3.9.13"
  }
 },
 "nbformat": 4,
 "nbformat_minor": 2
}
