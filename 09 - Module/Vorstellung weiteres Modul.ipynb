{
 "cells": [
  {
   "cell_type": "markdown",
   "metadata": {},
   "source": [
    "# Vorstellung weiteres Modul: CSV\n",
    "\n",
    "In dieser Lektion lernst du, wie du:\n",
    "\n",
    "- mit dem Python Module - Index umgehst (https://docs.python.org/3/py-modindex.html)\n",
    "- mit Moduls noch komfortabler .csv-Dateien einlesen kannst am Beispiel des CSV. "
   ]
  },
  {
   "cell_type": "code",
   "execution_count": 1,
   "metadata": {},
   "outputs": [
    {
     "name": "stdout",
     "output_type": "stream",
     "text": [
      "3.9.13 (main, Aug 25 2022, 23:51:50) [MSC v.1916 64 bit (AMD64)]\n"
     ]
    }
   ],
   "source": [
    "import sys\n",
    "print(sys.version)"
   ]
  },
  {
   "cell_type": "code",
   "execution_count": 5,
   "metadata": {},
   "outputs": [
    {
     "name": "stdout",
     "output_type": "stream",
     "text": [
      "['Name', 'Telefonnummer', 'Land']\n",
      "['Müller', '+49123456789', 'Deutschland']\n",
      "['Mustermann', '+3612345678', 'Ungarn']\n"
     ]
    }
   ],
   "source": [
    "import csv\n",
    "with open(\"datei.csv\", newline='', encoding='utf-8') as file:\n",
    "    csv_file = csv.reader(file, delimiter=\",\" )\n",
    "    for line in csv_file:\n",
    "        print(line)"
   ]
  },
  {
   "cell_type": "code",
   "execution_count": 7,
   "metadata": {},
   "outputs": [
    {
     "name": "stdout",
     "output_type": "stream",
     "text": [
      "['Müller', 'Hallo Welt', 'Hallo;Welt']\n",
      "['Müller', 'Hallo Welt', 'Hallo-Welt']\n"
     ]
    }
   ],
   "source": [
    "import csv\n",
    "with open(\"fromexcel.csv\", newline='', encoding='utf-8') as file:\n",
    "    csv_file = csv.reader(file, delimiter=\";\", quotechar='\"')\n",
    "    for line in csv_file:\n",
    "        print(line)"
   ]
  },
  {
   "cell_type": "code",
   "execution_count": null,
   "metadata": {
    "collapsed": true
   },
   "outputs": [],
   "source": []
  }
 ],
 "metadata": {
  "kernelspec": {
   "display_name": "Python 3 (ipykernel)",
   "language": "python",
   "name": "python3"
  },
  "language_info": {
   "codemirror_mode": {
    "name": "ipython",
    "version": 3
   },
   "file_extension": ".py",
   "mimetype": "text/x-python",
   "name": "python",
   "nbconvert_exporter": "python",
   "pygments_lexer": "ipython3",
   "version": "3.9.13"
  }
 },
 "nbformat": 4,
 "nbformat_minor": 2
}
