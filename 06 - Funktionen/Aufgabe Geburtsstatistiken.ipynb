{
 "cells": [
  {
   "cell_type": "markdown",
   "metadata": {},
   "source": [
    "## Aufgabe!\n",
    "\n",
    "Finde heraus, wie oft der Name \"Max\" als männlicher Vorname in Kalifornien zwischen 1950 und 2000 (jeweils einschließlich) vergeben wurde! Verwende dazu die bereitgestellte .csv - Datei (../data/names.csv)!"
   ]
  },
  {
   "cell_type": "code",
   "execution_count": 1,
   "metadata": {
    "collapsed": true
   },
   "outputs": [],
   "source": [
    "n = \"1975\""
   ]
  },
  {
   "cell_type": "code",
   "execution_count": 4,
   "metadata": {},
   "outputs": [
    {
     "name": "stdout",
     "output_type": "stream",
     "text": [
      "True\n"
     ]
    }
   ],
   "source": [
    "print(int(n) < 1990)"
   ]
  },
  {
   "cell_type": "code",
   "execution_count": 7,
   "metadata": {},
   "outputs": [
    {
     "name": "stdout",
     "output_type": "stream",
     "text": [
      "1990\n",
      "1992\n"
     ]
    }
   ],
   "source": [
    "years = [\"Year\", \"1990\", \"1992\"]\n",
    "\n",
    "for year in years:\n",
    "    if year == \"Year\":\n",
    "        continue\n",
    "    print(int(year))"
   ]
  },
  {
   "cell_type": "code",
   "execution_count": 11,
   "metadata": {},
   "outputs": [
    {
     "name": "stdout",
     "output_type": "stream",
     "text": [
      "In dem gesuchten Zeitraum wurde der Name Max so oft vergeben: 6385\n"
     ]
    }
   ],
   "source": [
    "params = [\"Max\", \"M\", \"CA\", 1950, 2000]\n",
    "\n",
    "with open(\"../data/names.csv\", \"r\") as names_list:\n",
    "    counter = 0\n",
    "    for line in names_list:\n",
    "        line_splitted = line.strip().split(\",\")\n",
    "        if line_splitted[1] == params[0] and line_splitted[3] == params[1] and line_splitted[4] == params[2] and int(line_splitted[2]) >= params[3] and int(line_splitted[2]) <= params[4]:\n",
    "            counter = counter + int(line_splitted[5])\n",
    "        #print(line_splitted)\n",
    "    print(\"In dem gesuchten Zeitraum wurde der Name Max so oft vergeben: \"+str(counter))\n"
   ]
  },
  {
   "cell_type": "code",
   "execution_count": null,
   "metadata": {},
   "outputs": [],
   "source": []
  }
 ],
 "metadata": {
  "kernelspec": {
   "display_name": "Python 3 (ipykernel)",
   "language": "python",
   "name": "python3"
  },
  "language_info": {
   "codemirror_mode": {
    "name": "ipython",
    "version": 3
   },
   "file_extension": ".py",
   "mimetype": "text/x-python",
   "name": "python",
   "nbconvert_exporter": "python",
   "pygments_lexer": "ipython3",
   "version": "3.9.13"
  }
 },
 "nbformat": 4,
 "nbformat_minor": 2
}
